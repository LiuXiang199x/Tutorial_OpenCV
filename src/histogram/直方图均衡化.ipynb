{
 "cells": [
  {
   "cell_type": "code",
   "execution_count": 12,
   "metadata": {},
   "outputs": [
    {
     "name": "stdout",
     "output_type": "stream",
     "text": [
      "-----------cv.python-----------\n"
     ]
    }
   ],
   "source": [
    "import numpy as np\n",
    "import cv2 as cv\n",
    "import matplotlib.pyplot as plt\n",
    "\n",
    "def equalHist_demo(image):\n",
    "    gray = cv.cvtColor(image, cv.COLOR_BGR2GRAY)\n",
    "    dst = cv.equalizeHist(gray)\n",
    "    # 自动帮我们调整图像对比度，是图像增强的一个手段\n",
    "    cv.imshow(\"equalizeHist_demo\",dst)\n",
    "\n",
    "# contrast limited adaptive histogram equalization (CLAHE) \n",
    "def clahe_demo(image):\n",
    "    gray = cv.cvtColor(image, cv.COLOR_BGR2GRAY)\n",
    "    clahe = cv.createCLAHE(clipLimit=8.0, tileGridSize=(2,2))\n",
    "    dst = clahe.apply(gray)\n",
    "    # 自动帮我们调整图像对比度，是图像增强的一个手段\n",
    "    cv.imshow(\"ContrastLimitedAdaptiveHistogramEqualization_demo\",dst)\n",
    "    \n",
    "\n",
    "print(\"-----------cv.python-----------\")\n",
    "src = cv.imread(\"/home/anaconda/桌面/自学OpenCV/src/image/image_lines.jpg\")\n",
    "cv.namedWindow(\"input image\", cv.WINDOW_AUTOSIZE)\n",
    "cv.imshow(\"original image\", src)\n",
    "\n",
    "clahe_demo(src)\n",
    "\n",
    "cv.waitKey(0)\n",
    "cv.destroyAllWindows()"
   ]
  },
  {
   "cell_type": "code",
   "execution_count": null,
   "metadata": {},
   "outputs": [],
   "source": []
  }
 ],
 "metadata": {
  "kernelspec": {
   "display_name": "py2.7",
   "language": "python",
   "name": "py2.7"
  },
  "language_info": {
   "codemirror_mode": {
    "name": "ipython",
    "version": 2
   },
   "file_extension": ".py",
   "mimetype": "text/x-python",
   "name": "python",
   "nbconvert_exporter": "python",
   "pygments_lexer": "ipython2",
   "version": "2.7.18"
  }
 },
 "nbformat": 4,
 "nbformat_minor": 4
}
