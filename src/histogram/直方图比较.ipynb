{
 "cells": [
  {
   "cell_type": "code",
   "execution_count": 3,
   "metadata": {},
   "outputs": [
    {
     "name": "stdout",
     "output_type": "stream",
     "text": [
      "-----------cv.python-----------\n",
      "巴氏举例：0.38528158801，相关性：0.808718997802，卡方：3247480.13383\n",
      "(512, 512, 3)\n",
      "(512, 512, 3)\n"
     ]
    },
    {
     "data": {
      "image/png": "[encoded data removed]",
      "text/plain": [
       "<Figure size 432x288 with 1 Axes>"
      ]
     },
     "metadata": {
      "needs_background": "light"
     },
     "output_type": "display_data"
    }
   ],
   "source": [
    "import numpy as np\n",
    "import cv2 as cv\n",
    "import matplotlib.pyplot as plt\n",
    "\n",
    "def create_rgb_hist(image):\n",
    "    h,w,c = image.shape\n",
    "    # 下面是直方图初始化，初始化为空。这里创建为16*16*16\n",
    "    # 因为直方图空间取值范围和总的取值范围不一样，binsize = 256/16 = 16个bins\n",
    "    # 所以blue，red，green都分别有16个bins。后面的1就是一列\n",
    "    # 这里16*16*16变成了正方体空间/正方形\n",
    "    # 这里必须用float32,不能用int，会出错\n",
    "    rgbHist = np.zeros([16*16*16, 1], np.float32)  \n",
    "    bsize = 256/16\n",
    "    for row in range(h):\n",
    "        for col in range(w):\n",
    "            b = image[row, col, 0]\n",
    "            g = image[row, col, 1]\n",
    "            r = image[row, col, 2]\n",
    "            # 出现在哪个里面就加一,一定要转为整数，不能为浮点数。因为是index  \n",
    "            # 我们降维将256降到16，在哪里出现一次就加一\n",
    "            # 然后矩阵中的行索引就是各个像素加权值\n",
    "            # 然后索引中矩阵的值就是统计出来它出现的次数\n",
    "            index = np.int(b/bsize)*16*16 + np.int(g/bsize)*16 + np.int(r/bsize)\n",
    "            rgbHist[np.int(index), 0] = rgbHist[np.int(index), 0] + 1\n",
    "    return rgbHist\n",
    "\n",
    "def hist_compare(image1, image2):\n",
    "    hist1 = create_rgb_hist(image1)\n",
    "    hist2 = create_rgb_hist(image2)\n",
    "    # 使用巴氏距离，越小越相似\n",
    "    match1 = cv.compareHist(hist1, hist2, cv.HISTCMP_BHATTACHARYYA)\n",
    "    # 相似性,相关性越大越相似\n",
    "    match2 = cv.compareHist(hist1, hist2, cv.HISTCMP_CORREL)\n",
    "    # 卡方，越大越不相似\n",
    "    match3 = cv.compareHist(hist1, hist2, cv.HISTCMP_CHISQR)\n",
    "    print(\"巴氏举例：%s，相关性：%s，卡方：%s\"%(match1,match2,match3))\n",
    "    \n",
    "print(\"-----------cv.python-----------\")\n",
    "image1 = cv.imread(\"/home/anaconda/桌面/自学OpenCV/src/image/lena.jpg\")\n",
    "image2 = cv.imread(\"/home/anaconda/桌面/自学OpenCV/src/image/lena_gaussian_noise.jpg\")\n",
    "\n",
    "\n",
    "cv.namedWindow(\"input image\", cv.WINDOW_AUTOSIZE)\n",
    "cv.imshow(\"original image1\", image1)\n",
    "cv.imshow(\"original image2\", image2)\n",
    "\n",
    "hist_compare(image1,image2)\n",
    "\n",
    "print(image1.shape)\n",
    "print(image2.shape)\n",
    "\n",
    "plt.plot(create_rgb_hist(image1))\n",
    "plt.plot(create_rgb_hist(image2))\n",
    "\n",
    "cv.waitKey(0)\n",
    "cv.destroyAllWindows()"
   ]
  },
  {
   "cell_type": "code",
   "execution_count": null,
   "metadata": {},
   "outputs": [],
   "source": []
  }
 ],
 "metadata": {
  "kernelspec": {
   "display_name": "py2.7",
   "language": "python",
   "name": "py2.7"
  },
  "language_info": {
   "codemirror_mode": {
    "name": "ipython",
    "version": 2
   },
   "file_extension": ".py",
   "mimetype": "text/x-python",
   "name": "python",
   "nbconvert_exporter": "python",
   "pygments_lexer": "ipython2",
   "version": "2.7.18"
  }
 },
 "nbformat": 4,
 "nbformat_minor": 4
}
