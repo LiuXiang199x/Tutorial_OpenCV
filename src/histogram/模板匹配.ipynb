{
 "cells": [
  {
   "cell_type": "code",
   "execution_count": 18,
   "metadata": {},
   "outputs": [
    {
     "name": "stdout",
     "output_type": "stream",
     "text": [
      "-----------cv.python-----------\n",
      "1\n",
      "3\n",
      "5\n"
     ]
    }
   ],
   "source": [
    "import cv2 as cv\n",
    "import numpy as np\n",
    "# 模板匹配，就是在整个图像区域发现与给定子图像匹配的小块区域，\n",
    "# 需要模板图像T和待检测图像-源图像S\n",
    "# 工作方法：在待检测的图像上，从左到右，从上倒下计算模板图像与重叠子图像匹配度，\n",
    "# 匹配度越大，两者相同的可能性越大。\n",
    "\n",
    "def get_roi(image):\n",
    "    face = image[200:360, 160:395]\n",
    "    cv.imshow(\"lena_face\", face)\n",
    "    cv.imwrite(\"/home/anaconda/桌面/自学OpenCV/src/image/lena_face.jpg\",face)\n",
    "\n",
    "def template_demo():\n",
    "    # 先准备模板图像和目标图像\n",
    "    tpl = cv.imread(\"/home/anaconda/桌面/自学OpenCV/src/image/lena.jpg\")\n",
    "    target = cv.imread(\"/home/anaconda/桌面/自学OpenCV/src/image/lena_face.jpg\")\n",
    "    cv.imshow(\"template\", tpl)\n",
    "    cv.imshow(\"target\", target)\n",
    "\n",
    "    # 三种模板匹配方法\n",
    "    methods = [cv.TM_SQDIFF_NORMED, cv.TM_CCORR_NORMED, cv.TM_CCOEFF_NORMED]  # 三种模板匹配方法\n",
    "    th, tw = tpl.shape[:2]\n",
    "\n",
    "    for md in methods:\n",
    "        print(md)\n",
    "        # result里面存放的是算法介绍中各个算法计算出来的值,得到匹配结果\n",
    "        result = cv.matchTemplate(target, tpl, md)  # 得到匹配结果\n",
    "        # 在result里面进行寻找，寻找最小值和最大值的位置\n",
    "        min_val, max_val, min_loc, max_loc = cv.minMaxLoc(result)\n",
    "        \n",
    "        # cv.TM_SQDIFF_NORMED最小时最相似，其他最大时最相似\n",
    "        if md == cv.TM_SQDIFF_NORMED:  # cv.TM_SQDIFF_NORMED最小时最相似，其他最大时最相似\n",
    "            tl = min_loc\n",
    "        else:\n",
    "            tl = max_loc\n",
    "\n",
    "        # 现在有了左上角点位，只需要求出右下角点位即可\n",
    "        br = (tl[0] + tw, tl[1] + th)\n",
    "        # tl为左上角坐标，br为右下角坐标，从而画出矩形\n",
    "        cv.rectangle(target, tl, br, (0, 0, 255), 2)  # tl为左上角坐标，br为右下角坐标，从而画出矩形\n",
    "        #cv.imshow(\"match-\"+np.str(md), target)\n",
    "        cv.imshow(\"match-\"+np.str(md),result)\n",
    "    \n",
    "print(\"-----------cv.python-----------\")\n",
    "src = cv.imread(\"/home/anaconda/桌面/自学OpenCV/src/image/lena.jpg\")\n",
    "cv.namedWindow(\"input image\", cv.WINDOW_AUTOSIZE)\n",
    "cv.imshow(\"original image\", src)\n",
    "\n",
    "template_demo()\n",
    "\n",
    "cv.waitKey(0)\n",
    "cv.destroyAllWindows()\n"
   ]
  },
  {
   "cell_type": "code",
   "execution_count": null,
   "metadata": {},
   "outputs": [],
   "source": []
  }
 ],
 "metadata": {
  "kernelspec": {
   "display_name": "py2.7",
   "language": "python",
   "name": "py2.7"
  },
  "language_info": {
   "codemirror_mode": {
    "name": "ipython",
    "version": 2
   },
   "file_extension": ".py",
   "mimetype": "text/x-python",
   "name": "python",
   "nbconvert_exporter": "python",
   "pygments_lexer": "ipython2",
   "version": "2.7.18"
  }
 },
 "nbformat": 4,
 "nbformat_minor": 4
}
