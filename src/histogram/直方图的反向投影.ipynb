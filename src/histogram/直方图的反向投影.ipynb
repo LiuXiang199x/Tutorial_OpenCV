{
 "cells": [
  {
   "cell_type": "code",
   "execution_count": 4,
   "metadata": {},
   "outputs": [
    {
     "name": "stdout",
     "output_type": "stream",
     "text": [
      "-----------cv.python-----------\n"
     ]
    }
   ],
   "source": [
    "import numpy as np\n",
    "import cv2 as cv\n",
    "import matplotlib.pyplot as plt\n",
    "\n",
    "def back_projection_demo():\n",
    "    target = cv.imread(\"/home/anaconda/桌面/自学OpenCV/src/image/flower.png\")\n",
    "    sample = cv.imread(\"/home/anaconda/桌面/自学OpenCV/src/image/flower_roi.png\")\n",
    "    roi_hsv = cv.cvtColor(sample, cv.COLOR_BGR2HSV)\n",
    "    target_hsv = cv.cvtColor(target, cv.COLOR_BGR2HSV)\n",
    "\n",
    "    # show images\n",
    "    cv.imshow(\"sample\", sample)\n",
    "    cv.imshow(\"target\", target)\n",
    "    \n",
    "    # 如果觉得显示出来的图像不是很好，可以在下面调整直方图的bin的个数。[32,48],[32,32]\n",
    "    roiHist = cv.calcHist([roi_hsv], [0,1], None, [180,256], [0,180,0,256])\n",
    "    # 归一化变为0-255之间\n",
    "    cv.normalize(roiHist, roiHist, 0, 255, cv.NORM_MINMAX)\n",
    "    # 这里dst要在target的hsv上面进行反向投影\n",
    "    dst = cv.calcBackProject([target_hsv], [0,1], roiHist, [0,180,0,256], 1)\n",
    "    cv.imshow(\"backProjection\", dst)\n",
    "    \n",
    "    \n",
    "def hist2d_demo(image):\n",
    "    hsv = cv.cvtColor(image, cv.COLOR_BGR2HSV)\n",
    "    # h通道的binsize是180，256个，range的范围h通道0-180,另外一个通道范围是0-256\n",
    "    hist = cv.calcHist([image], [0,1], None, [180, 256], [0,180,0,256])\n",
    "    # 用plot来显示更好，当然imshow也可以显示。\n",
    "    # cv.imshow(\"hist2d\", hist)\n",
    "    plt.imshow(hist, interpolation=\"nearest\")\n",
    "    plt.title(\"2D Histogram\")\n",
    "    plt.show()\n",
    "    cv.imwrite(\"/home/anaconda/桌面/自学OpenCV/src/image/flower_roi.png\",hist)\n",
    "    \n",
    "print(\"-----------cv.python-----------\")\n",
    "src = cv.imread(\"/home/anaconda/桌面/自学OpenCV/src/image/flower.png\")\n",
    "cv.namedWindow(\"input image\", cv.WINDOW_AUTOSIZE)\n",
    "cv.imshow(\"original image\", src)\n",
    "\n",
    "# 为什么我自己弄得图片追踪会是一团黑？？？？？？ roi区域图片没有保存好？\n",
    "hist2d_demo(src)\n",
    "#back_projection_demo()\n",
    "\n",
    "cv.waitKey(0)\n",
    "cv.destroyAllWindows()"
   ]
  },
  {
   "cell_type": "code",
   "execution_count": null,
   "metadata": {},
   "outputs": [],
   "source": []
  }
 ],
 "metadata": {
  "kernelspec": {
   "display_name": "py2.7",
   "language": "python",
   "name": "py2.7"
  },
  "language_info": {
   "codemirror_mode": {
    "name": "ipython",
    "version": 2
   },
   "file_extension": ".py",
   "mimetype": "text/x-python",
   "name": "python",
   "nbconvert_exporter": "python",
   "pygments_lexer": "ipython2",
   "version": "2.7.18"
  }
 },
 "nbformat": 4,
 "nbformat_minor": 4
}
