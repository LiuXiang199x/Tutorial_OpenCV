{
 "cells": [
  {
   "cell_type": "code",
   "execution_count": 5,
   "metadata": {},
   "outputs": [
    {
     "name": "stdout",
     "output_type": "stream",
     "text": [
      "------------Hello Python----------\n"
     ]
    }
   ],
   "source": [
    "import cv2 as cv\n",
    "import numpy as np\n",
    "\n",
    "# 图像金字塔和拉普拉斯金字塔(L1 = g1 - expand(g2))：reduce：高斯模糊+降采样，expand：扩大+卷积\n",
    "# PyrDown降采样，PyrUp还原\n",
    "\n",
    "def pyramid_demo(image):\n",
    "    level = 3\n",
    "    temp = image.copy()\n",
    "    pyramid_image = []\n",
    "    for i in range(level):\n",
    "        dst = cv.pyrDown(temp)\n",
    "        pyramid_image.append(dst)\n",
    "        cv.imshow(\"pyramid_down_\"+str(i),dst)\n",
    "        temp = dst.copy()\n",
    "    return pyramid_image\n",
    "    \n",
    "def laplace_demo(image):  # 注意：图片必须是满足2^n这种分辨率\n",
    "    pyramid_images = pyramid_demo(image)\n",
    "    level = len(pyramid_images)\n",
    "\n",
    "    for i in range(level-1, -1, -1):\n",
    "        if i-1 < 0:\n",
    "            expand  = cv.pyrUp(pyramid_images[i], dstsize=image.shape[:2])\n",
    "            lpls = cv.subtract(image, expand)\n",
    "            cv.imshow(\"laplace_demo\"+str(i), lpls)\n",
    "        else:\n",
    "            expand = cv.pyrUp(pyramid_images[i], dstsize=pyramid_images[i-1].shape[:2])\n",
    "            lpls = cv.subtract(pyramid_images[i-1], expand)\n",
    "            cv.imshow(\"laplace_demo\"+str(i), lpls)\n",
    "   \n",
    "\n",
    "print(\"------------Hello Python----------\")\n",
    "\n",
    "src = cv.imread(\"/home/anaconda/桌面/自学OpenCV/src/image/lena.jpg\")\n",
    "\n",
    "cv.namedWindow(\"input image\", cv.WINDOW_AUTOSIZE)\n",
    "cv.imshow(\"original image\",src)\n",
    "\n",
    "laplace_demo(src)\n",
    "\n",
    "cv.waitKey(0)\n",
    "cv.destroyAllWindows()"
   ]
  },
  {
   "cell_type": "code",
   "execution_count": null,
   "metadata": {},
   "outputs": [],
   "source": []
  }
 ],
 "metadata": {
  "kernelspec": {
   "display_name": "py2.7",
   "language": "python",
   "name": "py2.7"
  },
  "language_info": {
   "codemirror_mode": {
    "name": "ipython",
    "version": 2
   },
   "file_extension": ".py",
   "mimetype": "text/x-python",
   "name": "python",
   "nbconvert_exporter": "python",
   "pygments_lexer": "ipython2",
   "version": "2.7.18"
  }
 },
 "nbformat": 4,
 "nbformat_minor": 4
}
