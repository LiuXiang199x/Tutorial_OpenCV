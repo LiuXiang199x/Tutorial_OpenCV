{
 "cells": [
  {
   "cell_type": "code",
   "execution_count": null,
   "metadata": {},
   "outputs": [],
   "source": [
    "import numpy as np\n",
    "import cv2 as cv\n",
    "\n",
    "\n",
    "\n",
    "print(\"------------Hello Python----------\")\n",
    "\n",
    "src = cv.imread(\"/home/anaconda/桌面/自学OpenCV/src/image/lena.jpg\")\n",
    "\n",
    "cv.namedWindow(\"input image\", cv.WINDOW_AUTOSIZE)\n",
    "cv.imshow(\"original image\",src)\n",
    "\n",
    "edge_demo(src)\n",
    "\n",
    "cv.waitKey(0)\n",
    "cv.destroyAllWindows()"
   ]
  }
 ],
 "metadata": {
  "kernelspec": {
   "display_name": "py2.7",
   "language": "python",
   "name": "py2.7"
  },
  "language_info": {
   "codemirror_mode": {
    "name": "ipython",
    "version": 2
   },
   "file_extension": ".py",
   "mimetype": "text/x-python",
   "name": "python",
   "nbconvert_exporter": "python",
   "pygments_lexer": "ipython2",
   "version": "2.7.18"
  }
 },
 "nbformat": 4,
 "nbformat_minor": 4
}
