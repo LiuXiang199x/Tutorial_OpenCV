{
 "cells": [
  {
   "cell_type": "code",
   "execution_count": 2,
   "metadata": {},
   "outputs": [],
   "source": [
    "import cv2 as cv\n",
    "import numpy as np"
   ]
  },
  {
   "cell_type": "code",
   "execution_count": 17,
   "metadata": {},
   "outputs": [
    {
     "name": "stdout",
     "output_type": "stream",
     "text": [
      "------------Hello Python----------\n"
     ]
    },
    {
     "ename": "KeyboardInterrupt",
     "evalue": "",
     "output_type": "error",
     "traceback": [
      "\u001b[0;31m---------------------------------------------------------------------------\u001b[0m",
      "\u001b[0;31mKeyboardInterrupt\u001b[0m                         Traceback (most recent call last)",
      "\u001b[0;32m<ipython-input-17-ccadf1c190d3>\u001b[0m in \u001b[0;36m<module>\u001b[0;34m()\u001b[0m\n\u001b[1;32m     38\u001b[0m \u001b[0mcv\u001b[0m\u001b[0;34m.\u001b[0m\u001b[0mnamedWindow\u001b[0m\u001b[0;34m(\u001b[0m\u001b[0;34m\"input image\"\u001b[0m\u001b[0;34m,\u001b[0m \u001b[0mcv\u001b[0m\u001b[0;34m.\u001b[0m\u001b[0mWINDOW_AUTOSIZE\u001b[0m\u001b[0;34m)\u001b[0m\u001b[0;34m\u001b[0m\u001b[0m\n\u001b[1;32m     39\u001b[0m \u001b[0mcv\u001b[0m\u001b[0;34m.\u001b[0m\u001b[0mimshow\u001b[0m\u001b[0;34m(\u001b[0m\u001b[0;34m\"First_pic\"\u001b[0m\u001b[0;34m,\u001b[0m\u001b[0msrc\u001b[0m\u001b[0;34m)\u001b[0m\u001b[0;34m\u001b[0m\u001b[0m\n\u001b[0;32m---> 40\u001b[0;31m \u001b[0mextract_object_demo\u001b[0m\u001b[0;34m(\u001b[0m\u001b[0;34m)\u001b[0m\u001b[0;34m\u001b[0m\u001b[0m\n\u001b[0m\u001b[1;32m     41\u001b[0m \u001b[0mcv\u001b[0m\u001b[0;34m.\u001b[0m\u001b[0mwaitKey\u001b[0m\u001b[0;34m(\u001b[0m\u001b[0;36m0\u001b[0m\u001b[0;34m)\u001b[0m\u001b[0;34m\u001b[0m\u001b[0m\n",
      "\u001b[0;32m<ipython-input-17-ccadf1c190d3>\u001b[0m in \u001b[0;36mextract_object_demo\u001b[0;34m()\u001b[0m\n\u001b[1;32m     17\u001b[0m         \u001b[0mdst\u001b[0m \u001b[0;34m=\u001b[0m \u001b[0mcv\u001b[0m\u001b[0;34m.\u001b[0m\u001b[0mbitwise_not\u001b[0m\u001b[0;34m(\u001b[0m\u001b[0mframe\u001b[0m\u001b[0;34m,\u001b[0m \u001b[0mframe\u001b[0m\u001b[0;34m,\u001b[0m \u001b[0mmask\u001b[0m\u001b[0;34m=\u001b[0m\u001b[0mmask\u001b[0m\u001b[0;34m)\u001b[0m\u001b[0;34m\u001b[0m\u001b[0m\n\u001b[1;32m     18\u001b[0m         \u001b[0mcv\u001b[0m\u001b[0;34m.\u001b[0m\u001b[0mimshow\u001b[0m\u001b[0;34m(\u001b[0m\u001b[0;34m\"mask\"\u001b[0m\u001b[0;34m,\u001b[0m\u001b[0mmask\u001b[0m\u001b[0;34m)\u001b[0m\u001b[0;34m\u001b[0m\u001b[0m\n\u001b[0;32m---> 19\u001b[0;31m         \u001b[0mc\u001b[0m \u001b[0;34m=\u001b[0m \u001b[0mcv\u001b[0m\u001b[0;34m.\u001b[0m\u001b[0mwaitKey\u001b[0m\u001b[0;34m(\u001b[0m\u001b[0;36m40\u001b[0m\u001b[0;34m)\u001b[0m\u001b[0;34m\u001b[0m\u001b[0m\n\u001b[0m\u001b[1;32m     20\u001b[0m         \u001b[0;32mif\u001b[0m \u001b[0mc\u001b[0m \u001b[0;34m==\u001b[0m \u001b[0;36m27\u001b[0m\u001b[0;34m:\u001b[0m  \u001b[0;31m# 退出， 27是Esc的ASCII码\u001b[0m\u001b[0;34m\u001b[0m\u001b[0m\n\u001b[1;32m     21\u001b[0m             \u001b[0;32mbreak\u001b[0m\u001b[0;34m;\u001b[0m\u001b[0;34m\u001b[0m\u001b[0m\n",
      "\u001b[0;31mKeyboardInterrupt\u001b[0m: "
     ]
    }
   ],
   "source": [
    "def extract_object_demo():\n",
    "    capture = cv.VideoCapture(\"/home/anaconda/桌面/自学OpenCV/src/slow.mp4\")\n",
    "    # 开始读取视频内容\n",
    "    while(True):   # 一直读，读到结尾， frame是截下来的每一帧的图片\n",
    "        ret, frame = capture.read()  # 读到没有图片或者结尾，ret = False\n",
    "        if ret == False:\n",
    "            break;\n",
    "        # 通过将它全部转化为hsv来过滤颜色。我们视频中车子白色，那就过滤白色\n",
    "        # 查表格，白色的三个通道的取值范围。\n",
    "        hsv = cv.cvtColor(frame, cv.COLOR_BGR2HSV)\n",
    "        lower_hsv = np.array([0,0,221])\n",
    "        upper_hsv = np.array([180,30,255])\n",
    "        # 这里得到的是一个二值图像\n",
    "        mask = cv.inRange(hsv,lowerb=lower_hsv,upperb=upper_hsv)\n",
    "        cv.imshow(\"video\", frame)  # 每一帧读入再每一帧输出\n",
    "        # dst 是将时评中追踪的颜色按真实颜色给输出来\n",
    "        dst = cv.bitwise_not(frame, frame, mask=mask)\n",
    "        cv.imshow(\"mask\",mask)\n",
    "        c = cv.waitKey(40)\n",
    "        if c == 27:  # 退出， 27是Esc的ASCII码\n",
    "            break;\n",
    "    \n",
    "    \n",
    "def color_space_demo(image):\n",
    "    gray = cv.cvtColor(image, cv.COLOR_BGR2GRAY)\n",
    "    cv.imshow(\"gray\", gray)\n",
    "    hsv = cv.cvtColor(image,cv.COLOR_BGR2HSV)\n",
    "    cv.imshow(\"hsv\",hsv)\n",
    "    yuv = cv.cvtColor(image, cv.COLOR_BGR2YUV)\n",
    "    cv.imshow(\"yuv\",yuv)\n",
    "    Ycrcb = cv.cvtColor(image, cv.COLOR_BGR2YCrCb)\n",
    "    cv.imshow(\"YCrCb\",Ycrcb)\n",
    "\n",
    "\n",
    "print(\"------------Hello Python----------\")\n",
    "\n",
    "src = cv.imread(\"/home/anaconda/桌面/自学OpenCV/src/lena.jpg\")\n",
    "cv.namedWindow(\"input image\", cv.WINDOW_AUTOSIZE)\n",
    "cv.imshow(\"First_pic\",src)\n",
    "extract_object_demo()\n",
    "cv.waitKey(0)"
   ]
  },
  {
   "cell_type": "code",
   "execution_count": 1,
   "metadata": {},
   "outputs": [
    {
     "name": "stdout",
     "output_type": "stream",
     "text": [
      "------------Hello Python----------\n"
     ]
    },
    {
     "ename": "NameError",
     "evalue": "name 'cv' is not defined",
     "output_type": "error",
     "traceback": [
      "\u001b[0;31m---------------------------------------------------------------------------\u001b[0m",
      "\u001b[0;31mNameError\u001b[0m                                 Traceback (most recent call last)",
      "\u001b[0;32m<ipython-input-1-53ef11f4d714>\u001b[0m in \u001b[0;36m<module>\u001b[0;34m()\u001b[0m\n\u001b[1;32m     35\u001b[0m \u001b[0;32mprint\u001b[0m\u001b[0;34m(\u001b[0m\u001b[0;34m\"------------Hello Python----------\"\u001b[0m\u001b[0;34m)\u001b[0m\u001b[0;34m\u001b[0m\u001b[0m\n\u001b[1;32m     36\u001b[0m \u001b[0;34m\u001b[0m\u001b[0m\n\u001b[0;32m---> 37\u001b[0;31m \u001b[0msrc\u001b[0m \u001b[0;34m=\u001b[0m \u001b[0mcv\u001b[0m\u001b[0;34m.\u001b[0m\u001b[0mimread\u001b[0m\u001b[0;34m(\u001b[0m\u001b[0;34m\"/home/anaconda/桌面/自学OpenCV/src/lena.jpg\"\u001b[0m\u001b[0;34m)\u001b[0m\u001b[0;34m\u001b[0m\u001b[0m\n\u001b[0m\u001b[1;32m     38\u001b[0m \u001b[0mcv\u001b[0m\u001b[0;34m.\u001b[0m\u001b[0mnamedWindow\u001b[0m\u001b[0;34m(\u001b[0m\u001b[0;34m\"input image\"\u001b[0m\u001b[0;34m,\u001b[0m \u001b[0mcv\u001b[0m\u001b[0;34m.\u001b[0m\u001b[0mWINDOW_AUTOSIZE\u001b[0m\u001b[0;34m)\u001b[0m\u001b[0;34m\u001b[0m\u001b[0m\n\u001b[1;32m     39\u001b[0m \u001b[0mcv\u001b[0m\u001b[0;34m.\u001b[0m\u001b[0mimshow\u001b[0m\u001b[0;34m(\u001b[0m\u001b[0;34m\"First_pic\"\u001b[0m\u001b[0;34m,\u001b[0m\u001b[0msrc\u001b[0m\u001b[0;34m)\u001b[0m\u001b[0;34m\u001b[0m\u001b[0m\n",
      "\u001b[0;31mNameError\u001b[0m: name 'cv' is not defined"
     ]
    }
   ],
   "source": [
    "def extract_object_demo():\n",
    "    capture = cv.VideoCapture(\"/home/anaconda/桌面/自学OpenCV/src/slow.mp4\")\n",
    "    # 开始读取视频内容\n",
    "    while(True):   # 一直读，读到结尾， frame是截下来的每一帧的图片\n",
    "        ret, frame = capture.read()  # 读到没有图片或者结尾，ret = False\n",
    "        if ret == False:\n",
    "            break;\n",
    "        # 通过将它全部转化为hsv来过滤颜色。我们视频中车子白色，那就过滤白色\n",
    "        # 查表格，白色的三个通道的取值范围。\n",
    "        hsv = cv.cvtColor(frame, cv.COLOR_BGR2HSV)\n",
    "        lower_hsv = np.array([0,0,221])\n",
    "        upper_hsv = np.array([180,30,255])\n",
    "        # 这里得到的是一个二值图像\n",
    "        mask = cv.inRange(hsv,lowerb=lower_hsv,upperb=upper_hsv)\n",
    "        # 将追踪的颜色按照实际颜色输出：dst就是通过逻辑运算的非运算\n",
    "        dst = cv.bitwise_not(frame, frame, mask=mask)\n",
    "        cv.imshow(\"video\", frame)  # 每一帧读入再每一帧输出\n",
    "        cv.imshow(\"mask\",dst)\n",
    "        c = cv.waitKey(40)\n",
    "        if c == 27:  # 退出， 27是Esc的ASCII码\n",
    "            break;\n",
    "    \n",
    "    \n",
    "def color_space_demo(image):\n",
    "    gray = cv.cvtColor(image, cv.COLOR_BGR2GRAY)\n",
    "    cv.imshow(\"gray\", gray)\n",
    "    hsv = cv.cvtColor(image,cv.COLOR_BGR2HSV)\n",
    "    cv.imshow(\"hsv\",hsv)\n",
    "    yuv = cv.cvtColor(image, cv.COLOR_BGR2YUV)\n",
    "    cv.imshow(\"yuv\",yuv)\n",
    "    Ycrcb = cv.cvtColor(image, cv.COLOR_BGR2YCrCb)\n",
    "    cv.imshow(\"YCrCb\",Ycrcb)\n",
    "\n",
    "\n",
    "print(\"------------Hello Python----------\")\n",
    "\n",
    "src = cv.imread(\"/home/anaconda/桌面/自学OpenCV/src/lena.jpg\")\n",
    "cv.namedWindow(\"input image\", cv.WINDOW_AUTOSIZE)\n",
    "cv.imshow(\"First_pic\",src)\n",
    "\n",
    "b,g,r = cv.split(src)\n",
    "cv.imshow(\"blue\",b)\n",
    "cv.imshow(\"green\",g)\n",
    "cv.imshow(\"red\",r)\n",
    "# 上面都是单通道，分离出来的肯定都是灰度图\n",
    "# 给某一个通道单独赋值\n",
    "src[:,:,2] = 0\n",
    "cv.imshow(\"changed image\",src)\n",
    "\n",
    "#merge 可以把三个通道的值结合起来\n",
    "src = cv.merge([b,g,r])\n",
    "cv.imshow(\"changed image2\",src)\n",
    "\n",
    "cv.waitKey(0)\n",
    "cv.destroyAllWindows()"
   ]
  },
  {
   "cell_type": "code",
   "execution_count": null,
   "metadata": {},
   "outputs": [],
   "source": []
  },
  {
   "cell_type": "code",
   "execution_count": null,
   "metadata": {},
   "outputs": [],
   "source": []
  }
 ],
 "metadata": {
  "kernelspec": {
   "display_name": "py2.7",
   "language": "python",
   "name": "py2.7"
  },
  "language_info": {
   "codemirror_mode": {
    "name": "ipython",
    "version": 2
   },
   "file_extension": ".py",
   "mimetype": "text/x-python",
   "name": "python",
   "nbconvert_exporter": "python",
   "pygments_lexer": "ipython2",
   "version": "2.7.18"
  }
 },
 "nbformat": 4,
 "nbformat_minor": 4
}
