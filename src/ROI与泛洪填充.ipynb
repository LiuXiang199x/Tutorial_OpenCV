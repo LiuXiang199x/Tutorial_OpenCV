{
 "cells": [
  {
   "cell_type": "code",
   "execution_count": 2,
   "metadata": {},
   "outputs": [],
   "source": [
    "import cv2 as cv\n",
    "import numpy as np"
   ]
  },
  {
   "cell_type": "code",
   "execution_count": 3,
   "metadata": {},
   "outputs": [
    {
     "name": "stdout",
     "output_type": "stream",
     "text": [
      "------------Hello Python----------\n",
      "(512, 512, 3)\n"
     ]
    },
    {
     "ename": "TypeError",
     "evalue": "Scalar value for argument 'loDiff' is not numeric",
     "output_type": "error",
     "traceback": [
      "\u001b[0;31m---------------------------------------------------------------------------\u001b[0m",
      "\u001b[0;31mTypeError\u001b[0m                                 Traceback (most recent call last)",
      "\u001b[0;32m<ipython-input-3-286e7c18f1ab>\u001b[0m in \u001b[0;36m<module>\u001b[0;34m()\u001b[0m\n\u001b[1;32m     43\u001b[0m \u001b[0mcv\u001b[0m\u001b[0;34m.\u001b[0m\u001b[0mimshow\u001b[0m\u001b[0;34m(\u001b[0m\u001b[0;34m\"src_grayface\"\u001b[0m\u001b[0;34m,\u001b[0m\u001b[0msrc\u001b[0m\u001b[0;34m)\u001b[0m\u001b[0;34m\u001b[0m\u001b[0m\n\u001b[1;32m     44\u001b[0m '''\n\u001b[0;32m---> 45\u001b[0;31m \u001b[0mfill_binary\u001b[0m\u001b[0;34m(\u001b[0m\u001b[0;34m)\u001b[0m\u001b[0;34m\u001b[0m\u001b[0m\n\u001b[0m\u001b[1;32m     46\u001b[0m \u001b[0mcv\u001b[0m\u001b[0;34m.\u001b[0m\u001b[0mwaitKey\u001b[0m\u001b[0;34m(\u001b[0m\u001b[0;36m0\u001b[0m\u001b[0;34m)\u001b[0m\u001b[0;34m\u001b[0m\u001b[0m\n\u001b[1;32m     47\u001b[0m \u001b[0;34m\u001b[0m\u001b[0m\n",
      "\u001b[0;32m<ipython-input-3-286e7c18f1ab>\u001b[0m in \u001b[0;36mfill_binary\u001b[0;34m()\u001b[0m\n\u001b[1;32m     18\u001b[0m     \u001b[0mmask\u001b[0m \u001b[0;34m=\u001b[0m \u001b[0mnp\u001b[0m\u001b[0;34m.\u001b[0m\u001b[0mones\u001b[0m\u001b[0;34m(\u001b[0m\u001b[0;34m[\u001b[0m\u001b[0;36m402\u001b[0m\u001b[0;34m,\u001b[0m \u001b[0;36m402\u001b[0m\u001b[0;34m,\u001b[0m \u001b[0;36m1\u001b[0m\u001b[0;34m]\u001b[0m\u001b[0;34m,\u001b[0m \u001b[0mnp\u001b[0m\u001b[0;34m.\u001b[0m\u001b[0muint8\u001b[0m\u001b[0;34m)\u001b[0m\u001b[0;34m\u001b[0m\u001b[0m\n\u001b[1;32m     19\u001b[0m     \u001b[0mmask\u001b[0m\u001b[0;34m[\u001b[0m\u001b[0;36m101\u001b[0m\u001b[0;34m:\u001b[0m\u001b[0;36m301\u001b[0m\u001b[0;34m,\u001b[0m \u001b[0;36m101\u001b[0m\u001b[0;34m:\u001b[0m\u001b[0;36m301\u001b[0m\u001b[0;34m]\u001b[0m \u001b[0;34m=\u001b[0m \u001b[0;36m0\u001b[0m\u001b[0;34m\u001b[0m\u001b[0m\n\u001b[0;32m---> 20\u001b[0;31m     \u001b[0mcv\u001b[0m\u001b[0;34m.\u001b[0m\u001b[0mfloodFill\u001b[0m\u001b[0;34m(\u001b[0m\u001b[0mimage\u001b[0m\u001b[0;34m,\u001b[0m \u001b[0mmask\u001b[0m\u001b[0;34m,\u001b[0m \u001b[0;34m(\u001b[0m\u001b[0;36m200\u001b[0m\u001b[0;34m,\u001b[0m\u001b[0;36m200\u001b[0m\u001b[0;34m)\u001b[0m\u001b[0;34m,\u001b[0m\u001b[0;34m(\u001b[0m\u001b[0;36m100\u001b[0m\u001b[0;34m,\u001b[0m\u001b[0;36m2\u001b[0m\u001b[0;34m,\u001b[0m\u001b[0;36m255\u001b[0m\u001b[0;34m)\u001b[0m\u001b[0;34m,\u001b[0m\u001b[0mcv\u001b[0m\u001b[0;34m.\u001b[0m\u001b[0mFLOODFILL_MASK_ONLY\u001b[0m\u001b[0;34m)\u001b[0m\u001b[0;34m\u001b[0m\u001b[0m\n\u001b[0m\u001b[1;32m     21\u001b[0m     \u001b[0mcv\u001b[0m\u001b[0;34m.\u001b[0m\u001b[0mimshow\u001b[0m\u001b[0;34m(\u001b[0m\u001b[0;34m\"filled binary\"\u001b[0m\u001b[0;34m,\u001b[0m \u001b[0mimage\u001b[0m\u001b[0;34m)\u001b[0m\u001b[0;34m\u001b[0m\u001b[0m\n\u001b[1;32m     22\u001b[0m \u001b[0;34m\u001b[0m\u001b[0m\n",
      "\u001b[0;31mTypeError\u001b[0m: Scalar value for argument 'loDiff' is not numeric"
     ]
    }
   ],
   "source": [
    "def fill_color_demo(image):\n",
    "    copy_image = image.copy()\n",
    "    h, w = image.shape[:2]\n",
    "    mask = np.zeros([h+2,w+2],np.uint8)  \n",
    "    # 这里必须是uint8才能去做mask，而且h和w都是必须+2。\n",
    "    # 个人想法：+2,是为了保证横竖两头，位移扫描的时候保证能把边界全部扫上\n",
    "    # 起始填充位，填充完后的值是什么(黄色)，低值，高值，填充的flag：填充方法选择\n",
    "    # 100-30 = 70——低值，30+50=80——高值。\n",
    "    # 所以从(30,30）这个点开始，在70-80之间的都渲染成黄色，所以很明显黑色不在这个范围，没有渲染\n",
    "    cv.floodFill(copy_image, mask, (30,30),(0,255,255),(100,100,100),(50,50,50),cv.FLOODFILL_FIXED_RANGE)\n",
    "    cv.imshow(\"fill_color_demo\",copy_image)\n",
    "    \n",
    "def fill_binary():\n",
    "    image = np.zeros([400, 400, 3],np.uint8)\n",
    "    image[100:300,100:300,:] = 255\n",
    "    cv.imshow(\"fill_binary\", image)\n",
    "    \n",
    "    mask = np.ones([402, 402, 1], np.uint8)\n",
    "    mask[101:301, 101:301] = 0\n",
    "    cv.floodFill(image, mask, (200,200),(100,2,255),cv.FLOODFILL_MASK_ONLY)\n",
    "    cv.imshow(\"filled binary\", image)\n",
    "    \n",
    "print(\"------------Hello Python----------\")\n",
    "\n",
    "src = cv.imread(\"/home/anaconda/桌面/自学OpenCV/src/lena.jpg\")\n",
    "\n",
    "print(src.shape)\n",
    "\n",
    "cv.namedWindow(\"input image\", cv.WINDOW_AUTOSIZE)\n",
    "cv.imshow(\"image1\",src)\n",
    "'''\n",
    "face = src[98:420, 42:392]\n",
    "cv.imshow(\"face\",face)\n",
    "gray_face = cv.cvtColor(face, cv.COLOR_BGR2GRAY)\n",
    "cv.imshow(\"gray_face\",gray_face)\n",
    "\n",
    "#灰度图还原到RGB\n",
    "backface = cv.cvtColor(gray_face, cv.COLOR_GRAY2BGR)\n",
    "cv.imshow(\"backface\", backface)\n",
    "\n",
    "# 神奇操作，将ROI扣下来，操作后，原位置接会图片\n",
    "src[98:420, 42:392] = backface   # 这里不能直接等于gray！！会报错，通道数不一样\n",
    "cv.imshow(\"src_grayface\",src)\n",
    "'''\n",
    "fill_binary()\n",
    "cv.waitKey(0)\n",
    "\n",
    "cv.destroyAllWindows()"
   ]
  },
  {
   "cell_type": "code",
   "execution_count": null,
   "metadata": {},
   "outputs": [],
   "source": []
  }
 ],
 "metadata": {
  "kernelspec": {
   "display_name": "py2.7",
   "language": "python",
   "name": "py2.7"
  },
  "language_info": {
   "codemirror_mode": {
    "name": "ipython",
    "version": 2
   },
   "file_extension": ".py",
   "mimetype": "text/x-python",
   "name": "python",
   "nbconvert_exporter": "python",
   "pygments_lexer": "ipython2",
   "version": "2.7.18"
  }
 },
 "nbformat": 4,
 "nbformat_minor": 4
}
