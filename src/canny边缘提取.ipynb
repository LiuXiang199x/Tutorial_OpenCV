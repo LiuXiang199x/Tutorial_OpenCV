{
 "cells": [
  {
   "cell_type": "code",
   "execution_count": 3,
   "metadata": {},
   "outputs": [
    {
     "name": "stdout",
     "output_type": "stream",
     "text": [
      "------------Hello Python----------\n"
     ]
    }
   ],
   "source": [
    "import cv2 as cv\n",
    "import numpy as np\n",
    "\n",
    "# canny运算步骤：5步\n",
    "# 1. 高斯模糊 - GaussianBlur\n",
    "# 2. 灰度转换 - cvtColor\n",
    "# 3. 计算梯度 - Sobel/Scharr\n",
    "# 4. 非极大值抑制\n",
    "# 5. 高低阈值输出二值图像\n",
    "\n",
    "# 非极大值抑制：\n",
    "# 算法使用一个3×3邻域作用在幅值阵列M[i,j]的所有点上；\n",
    "# 每一个点上，邻域的中心像素M[i,j]与沿着梯度线的两个元素进行比较，\n",
    "# 其中梯度线是由邻域的中心点处的扇区值ζ[i,j]给出。\n",
    "# 如果在邻域中心点处的幅值M[i,j]不比梯度线方向上的两个相邻点幅值大，则M[i,j]赋值为零，否则维持原值；\n",
    "# 此过程可以把M[i,j]宽屋脊带细化成只有一个像素点宽，即保留屋脊的高度值。\n",
    "\n",
    "# 高低阈值连接\n",
    "# T1，T2为阈值，凡是高于T2的都保留，凡是低于T1的都丢弃\n",
    "# 从高于T2的像素出发，凡是大于T1而且相互连接的都保留。最终得到一个输出二值图像\n",
    "# 推荐高低阈值比值为T2:T1 = 3:1/2:1,其中T2高阈值，T1低阈值\n",
    "\n",
    "def edge_demo(image):\n",
    "    blurred = cv.GaussianBlur(image, (3, 3), 0)\n",
    "    gray = cv.cvtColor(blurred, cv.COLOR_BGR2GRAY)\n",
    "    \n",
    "    # x gradient\n",
    "    grad_x = cv.Sobel(gray, cv.CV_16SC1, 1, 0)\n",
    "    # y gradient\n",
    "    grad_y = cv.Sobel(gray, cv.CV_16SC1, 0, 1)\n",
    "\n",
    "    edge_output = cv.Canny(grad_x, grad_y, 30, 150)\n",
    "    cv.imshow(\"Canny demo\", edge_output)\n",
    "\n",
    "    # 如果想要显示的图像有颜色的话\n",
    "    dst = cv.bitwise_and(image, image, mask=edge_output)\n",
    "    cv.imshow(\"color edge\", dst)\n",
    "    \n",
    "print(\"------------Hello Python----------\")\n",
    "\n",
    "src = cv.imread(\"/home/anaconda/桌面/自学OpenCV/src/image/lena.jpg\")\n",
    "\n",
    "cv.namedWindow(\"input image\", cv.WINDOW_AUTOSIZE)\n",
    "cv.imshow(\"original image\",src)\n",
    "\n",
    "edge_demo(src)\n",
    "\n",
    "cv.waitKey(0)\n",
    "cv.destroyAllWindows()"
   ]
  },
  {
   "cell_type": "code",
   "execution_count": null,
   "metadata": {},
   "outputs": [],
   "source": []
  }
 ],
 "metadata": {
  "kernelspec": {
   "display_name": "py2.7",
   "language": "python",
   "name": "py2.7"
  },
  "language_info": {
   "codemirror_mode": {
    "name": "ipython",
    "version": 2
   },
   "file_extension": ".py",
   "mimetype": "text/x-python",
   "name": "python",
   "nbconvert_exporter": "python",
   "pygments_lexer": "ipython2",
   "version": "2.7.18"
  }
 },
 "nbformat": 4,
 "nbformat_minor": 4
}
