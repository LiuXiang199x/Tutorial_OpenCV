{
 "cells": [
  {
   "cell_type": "code",
   "execution_count": 2,
   "metadata": {},
   "outputs": [],
   "source": [
    "import cv2 as cv\n",
    "import numpy as np"
   ]
  },
  {
   "cell_type": "code",
   "execution_count": null,
   "metadata": {},
   "outputs": [
    {
     "name": "stdout",
     "output_type": "stream",
     "text": [
      "------------Hello Python----------\n",
      "(240, 320, 3)\n",
      "(240, 320, 3)\n",
      "[[15.0128125]\n",
      " [15.0128125]\n",
      " [15.0128125]]\n",
      "[[128.05269531]\n",
      " [109.60858073]\n",
      " [ 62.55748698]]\n",
      "[[58.14062149]\n",
      " [58.14062149]\n",
      " [58.14062149]]\n",
      "[[54.60093646]\n",
      " [45.52335089]\n",
      " [50.01800277]]\n"
     ]
    }
   ],
   "source": [
    "def add_demo(m1, m2):\n",
    "    dat = cv.add(m1,m2)\n",
    "    cv.imshow(\"add_demo\", dat)\n",
    "    \n",
    "def subtract_demo(m1, m2):\n",
    "    dat = cv.subtract(m1,m2)\n",
    "    cv.imshow(\"subtract_demo\", dat)\n",
    "    \n",
    "def divide_demo(m1, m2):    # 这个出来一般都是一片漆黑，因为除完后值一般很小\n",
    "    dat = cv.divide(m1,m2)\n",
    "    cv.imshow(\"divide_demo\", dat)\n",
    "\n",
    "def multiply_demo(m1, m2):  # 乘完之后结果变得很大，0和别人相乘就会变得很小\n",
    "    dat = cv.multiply(m1,m2)\n",
    "    cv.imshow(\"multiply_demo\", dat)\n",
    "    \n",
    "def others(m1, m2):    # 求每个通道的均值,第四个参数0.0是alpha通道，控制透明度\n",
    "    M1 = cv.mean(m1)\n",
    "    M2 = cv.mean(m2)\n",
    "    M1,dev1 = cv.meanStdDev(m1)  # 方差高说明像素之间差异比较大，对比度越大\n",
    "    M2,dev2 = cv.meanStdDev(m2)\n",
    "    \n",
    "    print(M1)\n",
    "    print(M2)\n",
    "    \n",
    "    print(dev1)\n",
    "    print(dev2)\n",
    "    \n",
    "    # 重新定义一个图片，与原来尺寸一样\n",
    "    h, w = m1.shape[:2]  # 切片[]包首不包尾，[:2] = 0, 1. 将行列赋值给h，w\n",
    "    img = np.zeros([h,w], np.uint8)\n",
    "    \n",
    "print(\"------------Hello Python----------\")\n",
    "\n",
    "src1 = cv.imread(\"/home/anaconda/桌面/自学OpenCV/src/01.jpg\")\n",
    "src2 = cv.imread(\"/home/anaconda/桌面/自学OpenCV/src/02.jpg\")\n",
    "\n",
    "print(src1.shape)\n",
    "print(src2.shape)\n",
    "\n",
    "cv.namedWindow(\"input image\", cv.WINDOW_AUTOSIZE)\n",
    "cv.imshow(\"image1\",src1)\n",
    "cv.imshow(\"image2\",src2)\n",
    "\n",
    "add_demo(src1, src2)\n",
    "subtract_demo(src1, src2)\n",
    "divide_demo(src1, src2)\n",
    "multiply_demo(src1, src2)   \n",
    "# 其实linux这个原图中字母周围不一定完全是0,黑白交界处可能是很小很小的值\n",
    "# 经过乘法后，就有一个值，就产生了这种锯齿状效果\n",
    "# linux乘法完后中间还有蓝色，（255*大于一的值一定会截断啊？）\n",
    "# 因为windows图标上有黑色的阴影部分，这个部分的值小于1,所以出现蓝绿色\n",
    "\n",
    "others(src1, src2)\n",
    "\n",
    "cv.waitKey(0)\n",
    "cv.destroyAllWindows()"
   ]
  },
  {
   "cell_type": "code",
   "execution_count": null,
   "metadata": {},
   "outputs": [],
   "source": []
  }
 ],
 "metadata": {
  "kernelspec": {
   "display_name": "py2.7",
   "language": "python",
   "name": "py2.7"
  },
  "language_info": {
   "codemirror_mode": {
    "name": "ipython",
    "version": 2
   },
   "file_extension": ".py",
   "mimetype": "text/x-python",
   "name": "python",
   "nbconvert_exporter": "python",
   "pygments_lexer": "ipython2",
   "version": "2.7.18"
  }
 },
 "nbformat": 4,
 "nbformat_minor": 4
}
