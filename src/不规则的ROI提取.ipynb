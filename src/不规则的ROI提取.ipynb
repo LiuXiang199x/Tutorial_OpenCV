{
 "cells": [
  {
   "cell_type": "code",
   "execution_count": 1,
   "metadata": {},
   "outputs": [],
   "source": [
    "import cv2 as cv\n",
    "import numpy as np"
   ]
  },
  {
   "cell_type": "code",
   "execution_count": 9,
   "metadata": {},
   "outputs": [
    {
     "name": "stdout",
     "output_type": "stream",
     "text": [
      "(232, 212, 3)\n"
     ]
    }
   ],
   "source": [
    "# 方法一：通过 inRange 来提取mask\n",
    "# 花朵红色，所以我们查表hsv：h[156,180],s[43,255],v[46,255]\n",
    "\n",
    "def get_mask(image):\n",
    "    image_hsv = cv.cvtColor(image, cv.COLOR_BGR2HSV)\n",
    "    # mask后面最大最小值数组要么直接写上括号\n",
    "    # 或者lower_hsv=np.array([X,X,X]); lowerb = lower_hsv;\n",
    "    mask = cv.inRange(image_hsv,(156,43,46),(180,255,255))\n",
    "    cv.imshow(\"mask\",mask)\n",
    "    # 现在得到了我们想要的ROI，现在就是要把它放回图上去\n",
    "    # 之气用的是  扣下灰度图，然后再转RGB，再按数组位置传回，现在没有数组\n",
    "    # 使用bitwise_and\n",
    "    result = cv.bitwise_and(image,image,mask=mask)\n",
    "    cv.imshow(\"result\",result)\n",
    "\n",
    "\n",
    "src = cv.imread(\"/home/anaconda/桌面/自学OpenCV/src/flower.png\")\n",
    "print(src.shape)\n",
    "\n",
    "cv.namedWindow(\"input_image\",cv.WINDOW_AUTOSIZE)\n",
    "cv.imshow(\"flower_original\",src)\n",
    "\n",
    "get_mask(src)\n",
    "\n",
    "cv.waitKey(0)\n",
    "cv.destroyAllWindows()"
   ]
  },
  {
   "cell_type": "code",
   "execution_count": null,
   "metadata": {},
   "outputs": [],
   "source": []
  }
 ],
 "metadata": {
  "kernelspec": {
   "display_name": "py2.7",
   "language": "python",
   "name": "py2.7"
  },
  "language_info": {
   "codemirror_mode": {
    "name": "ipython",
    "version": 2
   },
   "file_extension": ".py",
   "mimetype": "text/x-python",
   "name": "python",
   "nbconvert_exporter": "python",
   "pygments_lexer": "ipython2",
   "version": "2.7.18"
  }
 },
 "nbformat": 4,
 "nbformat_minor": 4
}
