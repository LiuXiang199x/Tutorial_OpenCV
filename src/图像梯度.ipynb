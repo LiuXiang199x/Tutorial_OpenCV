{
 "cells": [
  {
   "cell_type": "code",
   "execution_count": 3,
   "metadata": {},
   "outputs": [
    {
     "name": "stdout",
     "output_type": "stream",
     "text": [
      "------------Hello Python----------\n"
     ]
    }
   ],
   "source": [
    "import cv2 as cv\n",
    "import numpy as np\n",
    "\n",
    "# 图像梯度（由x,y方向上的偏导数和偏移构成），有一阶导数（sobel算子）和二阶导数（Laplace算子）\n",
    "# 用于求解图像边缘，一阶的极大值，二阶的零点\n",
    "# 一阶偏导在图像中为一阶差分，再变成算子（即权值）与图像像素值乘积相加，二阶同理\n",
    "\n",
    "def sobel_demo(image):\n",
    "    grad_x = cv.Sobel(image, cv.CV_32F, 1, 0)   #对x求一阶导，采用Scharr边缘更突出\n",
    "    grad_y = cv.Sobel(image, cv.CV_32F, 0, 1)   #对y求一阶导\n",
    "    \n",
    "    # 由于算完的图像有正有负，所以对其取绝对值\n",
    "    gradx = cv.convertScaleAbs(grad_x)  #用convertScaleAbs()函数将其转回原来的uint8形式\n",
    "    grady = cv.convertScaleAbs(grad_y)\n",
    "    cv.imshow(\"gradient_x\", gradx)  #x方向上的梯度\n",
    "    cv.imshow(\"gradient_y\", grady)  #y方向上的梯度\n",
    "    \n",
    "    gradxy = cv.addWeighted(gradx, 0.5, grady, 0.5, 0) #图片融合\n",
    "    cv.imshow(\"gradient\", gradxy)\n",
    "\n",
    "def Scharr_demo(image):\n",
    "    grad_x = cv.Scharr(image, cv.CV_32F, 1, 0)   #对x求一阶导\n",
    "    grad_y = cv.Scharr(image, cv.CV_32F, 0, 1)   #对y求一阶导\n",
    "    gradx = cv.convertScaleAbs(grad_x)  #用convertScaleAbs()函数将其转回原来的uint8形式\n",
    "    grady = cv.convertScaleAbs(grad_y)\n",
    "    cv.imshow(\"gradient_x\", gradx)  #x方向上的梯度\n",
    "    cv.imshow(\"gradient_y\", grady)  #y方向上的梯度\n",
    "    gradxy = cv.addWeighted(gradx, 0.5, grady, 0.5, 0)\n",
    "    cv.imshow(\"gradient\", gradxy)\n",
    "    \n",
    "def laplace_demo(image):  # 二阶导数，边缘更细\n",
    "    dst = cv.Laplacian(image,cv.CV_32F)\n",
    "    lpls = cv.convertScaleAbs(dst)\n",
    "    cv.imshow(\"laplace_demo\", lpls)\n",
    "\n",
    "\n",
    "def custom_laplace(image):\n",
    "    # 以下算子与上面的Laplace_demo()是一样的，增强采用np.array([[1, 1, 1], [1, -8, 1], [1, 1, 1]])\n",
    "    kernel = np.array([[1, 1, 1], [1, -8, 1], [1, 1, 1]])\n",
    "    dst = cv.filter2D(image, cv.CV_32F, kernel=kernel)\n",
    "    lpls = cv.convertScaleAbs(dst)\n",
    "    cv.imshow(\"custom_laplace\", lpls)\n",
    "\n",
    "print(\"------------Hello Python----------\")\n",
    "\n",
    "src = cv.imread(\"/home/anaconda/桌面/自学OpenCV/src/image/lena.jpg\")\n",
    "\n",
    "cv.namedWindow(\"input image\", cv.WINDOW_AUTOSIZE)\n",
    "cv.imshow(\"original image\",src)\n",
    "\n",
    "custom_laplace(src)\n",
    "\n",
    "cv.waitKey(0)\n",
    "cv.destroyAllWindows()"
   ]
  },
  {
   "cell_type": "code",
   "execution_count": null,
   "metadata": {},
   "outputs": [],
   "source": []
  }
 ],
 "metadata": {
  "kernelspec": {
   "display_name": "py2.7",
   "language": "python",
   "name": "py2.7"
  },
  "language_info": {
   "codemirror_mode": {
    "name": "ipython",
    "version": 2
   },
   "file_extension": ".py",
   "mimetype": "text/x-python",
   "name": "python",
   "nbconvert_exporter": "python",
   "pygments_lexer": "ipython2",
   "version": "2.7.18"
  }
 },
 "nbformat": 4,
 "nbformat_minor": 4
}
