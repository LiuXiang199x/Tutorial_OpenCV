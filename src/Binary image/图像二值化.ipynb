{
 "cells": [
  {
   "cell_type": "code",
   "execution_count": 2,
   "metadata": {},
   "outputs": [
    {
     "name": "stdout",
     "output_type": "stream",
     "text": [
      "------------Hello Python----------\n",
      "(1, 262144)\n",
      "m[:10]:[[163 162 161 ... 102 106 109]]\n",
      "('mean:', 124.19902038574219)\n",
      "threshold value 124.0\n"
     ]
    }
   ],
   "source": [
    "import cv2 as cv\n",
    "import numpy as np\n",
    "\n",
    "# 二值图像就是将灰度图转化成黑白图，没有灰，在一个值之前为黑，之后为白\n",
    "# 有全局和局部两种\n",
    "# 在使用全局阈值时，我们就是随便给了一个数来做阈值，那我们怎么知道我们选取的这个数的好坏呢？答案就是不停的尝试。\n",
    "# 如果是一副双峰图像（简 单来说双峰图像是指图像直方图中存在两个峰）呢？\n",
    "# 我们岂不是应该在两个峰之间的峰谷选一个值作为阈值？这就是 Otsu 二值化要做的。\n",
    "# 简单来说就是对 一副双峰图像自动根据其直方图计算出一个阈值。\n",
    "# （对于非双峰图像，这种方法 得到的结果可能会不理想）。\n",
    "\n",
    "\n",
    "def threshold_demo(image):\n",
    "    gray = cv.cvtColor(image, cv.COLOR_BGR2GRAY)\n",
    "    # 下面这个方法是全局自动找阈值\n",
    "    # ret, binary = cv.threshold(gray, 0, 255, cv.THRESH_BINARY | cv.THRESH_TRIANGLE)\n",
    "    \n",
    "    # 我们现在认为来给定阈值,这个时候必须删除自动寻找阈值 “| cv.THRESH_TRIANGLE”，不然自己指定就不起作用\n",
    "    ret, binary = cv.threshold(gray,127,255,cv.THRESH_TOZERO_INV)\n",
    "    print(\"threshold value %s\"%ret)\n",
    "    cv.imshow(\"binary\",binary)\n",
    "    \n",
    "def local_threshold(image):\n",
    "    gray = cv.cvtColor(image, cv.COLOR_BGR2GRAY)\n",
    "    # 像素为每个小方格，小方格像素值大于 ？？ 就二值化。比较大小两种均值：mean和高斯\n",
    "    # 10就是常量，我们有了均值，均值和阈值作比较，做差，若在10,那么就为黑或者白\n",
    "    # blocksize一定要为奇数\n",
    "    # 10相当于误差，因为有些像素点可能混进了噪声，所以不能很绝对。>或<比 = 好。\n",
    "    binary = cv.adaptiveThreshold(gray, 255, cv.ADAPTIVE_THRESH_GAUSSIAN_C, cv.THRESH_BINARY, 25, 10)\n",
    "    cv.imshow(\"binary\",binary)\n",
    "\n",
    "# 自己自定义分割。我们使用图片的整体像素平均数作为全局阈值\n",
    "def custom_threshold(image):\n",
    "    gray = cv.cvtColor(image, cv.COLOR_BGR2GRAY)\n",
    "    h,w = gray.shape[:2]\n",
    "    m = np.reshape(gray, [1, w*h])\n",
    "    print(m.shape)\n",
    "    print(\"m[:10]:%s\"%m[:10])\n",
    "    mean = m.sum() / (w*h)   # 求出整个灰度图像的平均值\n",
    "    print(\"mean:\", mean)\n",
    "    \n",
    "    ret, binary = cv.threshold(gray, mean, 255,cv.THRESH_BINARY)\n",
    "    print(\"threshold value %s\"%ret)\n",
    "    cv.imshow(\"binary\",binary)\n",
    "    \n",
    "    \n",
    "print(\"------------Hello Python----------\")\n",
    "\n",
    "src = cv.imread(\"/home/anaconda/桌面/自学OpenCV/src/image/lena.jpg\")\n",
    "\n",
    "cv.namedWindow(\"input image\", cv.WINDOW_AUTOSIZE)\n",
    "cv.imshow(\"original image\",src)\n",
    "\n",
    "custom_threshold(src)\n",
    "\n",
    "cv.waitKey(0)\n",
    "cv.destroyAllWindows()"
   ]
  },
  {
   "cell_type": "code",
   "execution_count": null,
   "metadata": {},
   "outputs": [],
   "source": []
  },
  {
   "cell_type": "code",
   "execution_count": null,
   "metadata": {},
   "outputs": [],
   "source": []
  }
 ],
 "metadata": {
  "kernelspec": {
   "display_name": "py2.7",
   "language": "python",
   "name": "py2.7"
  },
  "language_info": {
   "codemirror_mode": {
    "name": "ipython",
    "version": 2
   },
   "file_extension": ".py",
   "mimetype": "text/x-python",
   "name": "python",
   "nbconvert_exporter": "python",
   "pygments_lexer": "ipython2",
   "version": "2.7.18"
  }
 },
 "nbformat": 4,
 "nbformat_minor": 4
}
