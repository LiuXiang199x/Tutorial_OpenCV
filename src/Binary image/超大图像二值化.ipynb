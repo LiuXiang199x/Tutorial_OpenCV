{
 "cells": [
  {
   "cell_type": "code",
   "execution_count": 3,
   "metadata": {},
   "outputs": [
    {
     "name": "stdout",
     "output_type": "stream",
     "text": [
      "------------Hello Python----------\n",
      "(938, 713, 3)\n",
      "(20.250508243163807, 124.61328125)\n",
      "(29.907494050678704, 101.40484619140625)\n",
      "(16.102253823252063, 123.16917366293532)\n",
      "(45.56442197492595, 155.227294921875)\n",
      "(29.23693369867007, 146.441650390625)\n",
      "(20.89723402133125, 129.34231187810946)\n",
      "(35.67003294359995, 134.10679626464844)\n",
      "(43.316492358794626, 155.5491180419922)\n",
      "(17.87214574875987, 120.62655472636816)\n",
      "(34.473402770459614, 111.52856158088235)\n",
      "(18.039434181418628, 86.94090073529412)\n",
      "(11.006346386497995, 78.42382206613989)\n"
     ]
    }
   ],
   "source": [
    "import cv2 as cv\n",
    "import numpy as np\n",
    "\n",
    "# 将大图片拆分成小图片后再用自适应局部阈值比较好\n",
    "# 因为超大图像一般都是几千万或者几亿像素。1000*1000像素也才100万像素。\n",
    "# 对于超大像素而言，一个窗口根本显示不了那么多像素。要么就压缩才能显示。\n",
    "def big_image_binary(image):\n",
    "    print(image.shape)\n",
    "    cw = 256\n",
    "    ch = 256\n",
    "    h,w = image.shape[:2]\n",
    "    gray = cv.cvtColor(image, cv.COLOR_BGR2GRAY)\n",
    "    \n",
    "    # 将一张图片每隔ch * cw分成一份\n",
    "    for row in range(0, h, ch):\n",
    "        for col in range(0, w, cw):\n",
    "            roi = gray[row:row+ch, col:col+cw]  #获取分块\n",
    "            print(np.std(roi), np.mean(roi))\n",
    "            dev = np.std(roi)\n",
    "            \n",
    "            if dev < 15:\n",
    "            # 如果像素的标准差小于某一阈值 我们就理解这个区域的图像变化不大,即黑白区间不明显，我们全部赋值为255\n",
    "                gray[row:row+ch, col:col+cw] = 255\n",
    "            else:\n",
    "            # 全局阈值方法：\n",
    "                ret, dst = cv.threshold(roi, 0, 255, cv.THRESH_BINARY | cv.THRESH_OTSU)\n",
    "            \n",
    "            # 局部阈值方法：\n",
    "            # dst = cv.adaptiveThreshold(roi, 255, cv.ADAPTIVE_THRESH_GAUSSIAN_C, cv.THRESH_BINARY, 127, 20)\n",
    "\n",
    "                gray[row:row+ch, col:col+cw] = dst\n",
    "            \n",
    "    cv.imwrite(\"/home/anaconda/桌面/自学OpenCV/src/image/liuxiang_缩小.jpg\",gray)\n",
    "            \n",
    "print(\"------------Hello Python----------\")\n",
    "\n",
    "src = cv.imread(\"/home/anaconda/桌面/自学OpenCV/src/image/liuxiang.jpg\")\n",
    "\n",
    "#cv.namedWindow(\"input image\", cv.WINDOW_AUTOSIZE)\n",
    "#cv.imshow(\"original image\",src)\n",
    "\n",
    "big_image_binary(src)\n",
    "\n",
    "cv.waitKey(0)\n",
    "cv.destroyAllWindows()"
   ]
  },
  {
   "cell_type": "code",
   "execution_count": null,
   "metadata": {},
   "outputs": [],
   "source": []
  }
 ],
 "metadata": {
  "kernelspec": {
   "display_name": "py2.7",
   "language": "python",
   "name": "py2.7"
  },
  "language_info": {
   "codemirror_mode": {
    "name": "ipython",
    "version": 2
   },
   "file_extension": ".py",
   "mimetype": "text/x-python",
   "name": "python",
   "nbconvert_exporter": "python",
   "pygments_lexer": "ipython2",
   "version": "2.7.18"
  }
 },
 "nbformat": 4,
 "nbformat_minor": 4
}
