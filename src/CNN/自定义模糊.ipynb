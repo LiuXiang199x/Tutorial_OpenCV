{
 "cells": [
  {
   "cell_type": "code",
   "execution_count": 1,
   "metadata": {},
   "outputs": [
    {
     "name": "stdout",
     "output_type": "stream",
     "text": [
      "---------------hello cv.python---------------\n"
     ]
    }
   ],
   "source": [
    "import cv2 as cv\n",
    "import numpy as np\n",
    "\n",
    "def custom_blur_demo(image): \n",
    "    # 25个数做均值模糊，如果说每个像素都是0-255之间，那么他最后得出来的值会溢出。\n",
    "    # 最大值最多是25,所以我门要除以25,控制好卷积核内元素不能太大。\n",
    "    # kernel = np.ones([5,5],np.float32)/25 \n",
    "    # 下面是一个拉普拉斯算子，用来锐化，锐化就是让图像显得更真实。\n",
    "    kernel = np.array([[0,-1,0],[-1,5,-1],[0,-1,0]], np.float32)\n",
    "    dst = cv.filter2D(image,-1,kernel=kernel)\n",
    "    cv.imshow(\"custom blur iamage\",dst)\n",
    "\n",
    "\n",
    "print(\"---------------hello cv.python---------------\")\n",
    "src = cv.imread(\"/home/anaconda/桌面/自学OpenCV/src/lena.jpg\")\n",
    "cv.namedWindow(\"input image\", cv.WINDOW_AUTOSIZE)\n",
    "cv.imshow(\"input image\", src)\n",
    "custom_blur_demo(src)\n",
    "\n",
    "cv.waitKey(0)\n",
    "cv.destroyAllWindows()"
   ]
  },
  {
   "cell_type": "code",
   "execution_count": null,
   "metadata": {},
   "outputs": [],
   "source": []
  }
 ],
 "metadata": {
  "kernelspec": {
   "display_name": "py2.7",
   "language": "python",
   "name": "py2.7"
  },
  "language_info": {
   "codemirror_mode": {
    "name": "ipython",
    "version": 2
   },
   "file_extension": ".py",
   "mimetype": "text/x-python",
   "name": "python",
   "nbconvert_exporter": "python",
   "pygments_lexer": "ipython2",
   "version": "2.7.18"
  }
 },
 "nbformat": 4,
 "nbformat_minor": 4
}
