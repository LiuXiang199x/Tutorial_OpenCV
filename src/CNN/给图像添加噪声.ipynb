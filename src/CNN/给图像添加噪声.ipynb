{
 "cells": [
  {
   "cell_type": "code",
   "execution_count": null,
   "metadata": {
    "scrolled": true
   },
   "outputs": [
    {
     "name": "stdout",
     "output_type": "stream",
     "text": [
      "-----------cv.python-----------\n"
     ]
    }
   ],
   "source": [
    "import numpy as np\n",
    "import cv2 as cv\n",
    "\n",
    "def clamp(pv):\n",
    "    if pv > 255:\n",
    "        return 255\n",
    "    elif pv < 0:\n",
    "        return 0\n",
    "    else:\n",
    "        return pv\n",
    "\n",
    "def gaussian_noise(image):\n",
    "    h, w, c = image.shape\n",
    "    # 我们得到了hwc这三个值，现在我们要来获取高斯随机数，我们np.randn可以获得\n",
    "    # 先对每一行每一列每一个channel里面赋值\n",
    "    for row in range(h):\n",
    "        for col in range(w):\n",
    "            \n",
    "            # normal(loc=0.0, scale=1.0, size=None),均值，标准差，大小\n",
    "            s = np.random.normal(0, 20, 3)\n",
    "            \n",
    "            b = image[row, col, 0] # blue\n",
    "            g = image[row, col, 1] # green\n",
    "            r = image[row, col, 2] # red\n",
    "            \n",
    "            # 加上噪声\n",
    "            image[row, col, 0] = clamp(b + s[0])  # 这里可能超出0-255之外\n",
    "            image[row, col, 1] = clamp(g + s[1])\n",
    "            image[row, col, 2] = clamp(r + s[2])\n",
    "            \n",
    "    cv.imshow(\"gaussian_noise image\", image)\n",
    "    \n",
    "def sp_noise(image,prob):\n",
    "    '''\n",
    "    添加椒盐噪声\n",
    "    prob:噪声比例\n",
    "    '''\n",
    "    output = np.zeros(image.shape,np.uint8)\n",
    "    thres = 1 - prob\n",
    "\n",
    "    for i in range(image.shape[0]):\n",
    "        for j in range(image.shape[1]):\n",
    "            rdn = np.random.random()\n",
    "\n",
    "            if rdn < prob:\n",
    "                output[i][j] = 0\n",
    "\n",
    "            elif rdn > thres:\n",
    "                output[i][j] = 255\n",
    "            else:\n",
    "\n",
    "                output[i][j] = image[i][j]\n",
    "    return output\n",
    "    \n",
    "print(\"-----------cv.python-----------\")\n",
    "src = cv.imread(\"/home/anaconda/桌面/自学OpenCV/src/image/lena.jpg\")\n",
    "cv.namedWindow(\"input image\", cv.WINDOW_AUTOSIZE)\n",
    "cv.imshow(\"original image\", src)\n",
    "\n",
    "gaussian_noise(src)\n",
    "gn = gaussian_noise(src)\n",
    "cv.imshow(\"pepper_salt demo\",sp_noise(src,0.02))\n",
    "cv2.imwrite('/home/anaconda/桌面/自学OpenCV/src/image/lena_gaussian_noise.jpg', gn)\n",
    "\n",
    "cv.waitKey(0)\n",
    "cv.destroyAllWindows()"
   ]
  },
  {
   "cell_type": "code",
   "execution_count": null,
   "metadata": {},
   "outputs": [],
   "source": []
  }
 ],
 "metadata": {
  "kernelspec": {
   "display_name": "py2.7",
   "language": "python",
   "name": "py2.7"
  },
  "language_info": {
   "codemirror_mode": {
    "name": "ipython",
    "version": 2
   },
   "file_extension": ".py",
   "mimetype": "text/x-python",
   "name": "python",
   "nbconvert_exporter": "python",
   "pygments_lexer": "ipython2",
   "version": "2.7.18"
  }
 },
 "nbformat": 4,
 "nbformat_minor": 4
}
