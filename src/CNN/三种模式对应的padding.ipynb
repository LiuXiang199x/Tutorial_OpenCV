{
 "cells": [
  {
   "cell_type": "code",
   "execution_count": 1,
   "metadata": {},
   "outputs": [
    {
     "ename": "ImportError",
     "evalue": "No module named matplotlib.pyplot",
     "output_type": "error",
     "traceback": [
      "\u001b[0;31m---------------------------------------------------------------------------\u001b[0m",
      "\u001b[0;31mImportError\u001b[0m                               Traceback (most recent call last)",
      "\u001b[0;32m<ipython-input-1-341f7ed34b8f>\u001b[0m in \u001b[0;36m<module>\u001b[0;34m()\u001b[0m\n\u001b[1;32m      1\u001b[0m \u001b[0;32mimport\u001b[0m \u001b[0mnumpy\u001b[0m \u001b[0;32mas\u001b[0m \u001b[0mnp\u001b[0m\u001b[0;34m\u001b[0m\u001b[0m\n\u001b[0;32m----> 2\u001b[0;31m \u001b[0;32mimport\u001b[0m \u001b[0mmatplotlib\u001b[0m\u001b[0;34m.\u001b[0m\u001b[0mpyplot\u001b[0m \u001b[0;32mas\u001b[0m \u001b[0mplt\u001b[0m\u001b[0;34m\u001b[0m\u001b[0m\n\u001b[0m\u001b[1;32m      3\u001b[0m \u001b[0;32mfrom\u001b[0m \u001b[0mmpl_toolkits\u001b[0m\u001b[0;34m.\u001b[0m\u001b[0mmplot3d\u001b[0m \u001b[0;32mimport\u001b[0m \u001b[0mAxes3D\u001b[0m\u001b[0;34m\u001b[0m\u001b[0m\n\u001b[1;32m      4\u001b[0m \u001b[0;32mimport\u001b[0m \u001b[0mcopy\u001b[0m\u001b[0;34m\u001b[0m\u001b[0m\n\u001b[1;32m      5\u001b[0m \u001b[0;32mfrom\u001b[0m \u001b[0mPIL\u001b[0m \u001b[0;32mimport\u001b[0m \u001b[0mImage\u001b[0m\u001b[0;34m\u001b[0m\u001b[0m\n",
      "\u001b[0;31mImportError\u001b[0m: No module named matplotlib.pyplot"
     ]
    }
   ],
   "source": [
    "import numpy as np\n",
    "import matplotlib.pyplot as plt\n",
    "from mpl_toolkits.mplot3d import Axes3D\n",
    "import copy\n",
    "from PIL import Image\n",
    "import time\n",
    "import glob\n",
    "import pandas as pd\n",
    "from sklearn.model_selection import train_test_split"
   ]
  },
  {
   "cell_type": "code",
   "execution_count": 1,
   "metadata": {},
   "outputs": [],
   "source": [
    "# 确定了输入尺寸、卷积核尺寸、padding 以及 stride，输出的尺寸就被确定下来\n",
    "#可由以下公式计算。其中S‘，S分别是输出/输入尺寸，K是卷积核尺寸，P1,P2分别是两侧的padding。\n",
    "# S‘ = [(S-K+P1+P2)/stride] + 1\n",
    "\n",
    "def get_padding(inputs, ks, mode=\"SAME\"):\n",
    "    \"\"\"\n",
    "    Return padding list in different modes.\n",
    "    params: inputs (input array)\n",
    "    params: ks (kernel size) [p, q]\n",
    "    return: padding list [n,m,j,k]\n",
    "    \"\"\"\n",
    "    pad = None\n",
    "    if mode == \"FULL\":\n",
    "        pad = [ks[0] - 1, ks[1] - 1, ks[0] - 1, ks[1] - 1]\n",
    "    elif mode == \"VALID\":\n",
    "        pad = [0, 0, 0, 0]\n",
    "    elif mode == \"SAME\":\n",
    "        pad = [(ks[0] - 1) // 2, (ks[1] - 1) // 2,\n",
    "               (ks[0] - 1) // 2, (ks[1] - 1) // 2]\n",
    "        if ks[0] % 2 == 0:\n",
    "            pad[2] += 1\n",
    "        if ks[1] % 2 == 0:\n",
    "            pad[3] += 1\n",
    "    else:\n",
    "        print(\"Invalid mode\")\n",
    "    return pad"
   ]
  },
  {
   "cell_type": "code",
   "execution_count": 2,
   "metadata": {},
   "outputs": [],
   "source": [
    "# 2维卷积操作\n",
    "def conv(inputs, kernel, stride, mode=\"SAME\"):\n",
    "    ks = kernel.shape[:2]\n",
    "    # get_padding\n",
    "    pad = get_padding(inputs, ks, mode=\"SAME\")\n",
    "    padded_inputs = np.pad(inputs, pad_width=((pad[0], pad[2]), (pad[1], pad[3]), (0, 0)), mode=\"constant\")\n",
    "\n",
    "    height, width, channels = inputs.shape\n",
    "    out_width = int((width + pad[0] + pad[2] - ks[0]) / stride + 1)\n",
    "    out_height = int((height + pad[1] + pad[3] - ks[1]) / stride + 1)\n",
    "\n",
    "    outputs = np.empty(shape=(out_height, out_width))\n",
    "    for r, y in enumerate(range(0, padded_inputs.shape[0]-ks[1]+1, stride)):\n",
    "        for c, x in enumerate(range(0, padded_inputs.shape[1]-ks[0]+1, stride)):\n",
    "            outputs[r][c] = np.sum(padded_inputs[y:y+ks[1], x:x+ks[0], :] * kernel)\n",
    "    return outputs"
   ]
  },
  {
   "cell_type": "code",
   "execution_count": 3,
   "metadata": {},
   "outputs": [
    {
     "ename": "NameError",
     "evalue": "name 'from_image' is not defined",
     "output_type": "error",
     "traceback": [
      "\u001b[0;31m---------------------------------------------------------------------------\u001b[0m",
      "\u001b[0;31mNameError\u001b[0m                                 Traceback (most recent call last)",
      "\u001b[0;32m<ipython-input-3-1c0c5add5a97>\u001b[0m in \u001b[0;36m<module>\u001b[0;34m()\u001b[0m\n\u001b[0;32m----> 1\u001b[0;31m \u001b[0minputs\u001b[0m \u001b[0;34m=\u001b[0m \u001b[0mfrom_image\u001b[0m\u001b[0;34m(\u001b[0m\u001b[0;34m\"/home/anaconda/桌面/自学OpenCV/src/lena.jpg\"\u001b[0m\u001b[0;34m)\u001b[0m\u001b[0;34m\u001b[0m\u001b[0m\n\u001b[0m\u001b[1;32m      2\u001b[0m \u001b[0mto_image\u001b[0m\u001b[0;34m(\u001b[0m\u001b[0minputs\u001b[0m\u001b[0;34m,\u001b[0m \u001b[0msave_path\u001b[0m\u001b[0;34m=\u001b[0m\u001b[0;34m\"/home/anaconda/桌面/自学OpenCV/src/lena—CNN.jpg\"\u001b[0m\u001b[0;34m)\u001b[0m\u001b[0;34m\u001b[0m\u001b[0m\n\u001b[1;32m      3\u001b[0m \u001b[0;34m\u001b[0m\u001b[0m\n\u001b[1;32m      4\u001b[0m \u001b[0;31m#  Embossing Filter\u001b[0m\u001b[0;34m\u001b[0m\u001b[0;34m\u001b[0m\u001b[0m\n\u001b[1;32m      5\u001b[0m \u001b[0mkernel_one_channel\u001b[0m \u001b[0;34m=\u001b[0m \u001b[0mnp\u001b[0m\u001b[0;34m.\u001b[0m\u001b[0marray\u001b[0m\u001b[0;34m(\u001b[0m\u001b[0;34m[\u001b[0m\u001b[0;34m[\u001b[0m\u001b[0;36m0.1\u001b[0m\u001b[0;34m,\u001b[0m \u001b[0;36m0.1\u001b[0m\u001b[0;34m,\u001b[0m \u001b[0;36m0.1\u001b[0m\u001b[0;34m]\u001b[0m\u001b[0;34m,\u001b[0m \u001b[0;34m[\u001b[0m\u001b[0;36m0.1\u001b[0m\u001b[0;34m,\u001b[0m \u001b[0;34m-\u001b[0m\u001b[0;36m0.8\u001b[0m\u001b[0;34m,\u001b[0m \u001b[0;36m0.1\u001b[0m\u001b[0;34m]\u001b[0m\u001b[0;34m,\u001b[0m \u001b[0;34m[\u001b[0m\u001b[0;36m0.1\u001b[0m\u001b[0;34m,\u001b[0m \u001b[0;36m0.1\u001b[0m\u001b[0;34m,\u001b[0m \u001b[0;36m0.1\u001b[0m\u001b[0;34m]\u001b[0m\u001b[0;34m]\u001b[0m\u001b[0;34m)\u001b[0m\u001b[0;34m\u001b[0m\u001b[0m\n",
      "\u001b[0;31mNameError\u001b[0m: name 'from_image' is not defined"
     ]
    }
   ],
   "source": [
    "inputs = from_image(\"/home/anaconda/桌面/自学OpenCV/src/lena.jpg\")\n",
    "to_image(inputs, save_path=\"/home/anaconda/桌面/自学OpenCV/src/lena—CNN.jpg\")\n",
    "\n",
    "#  Embossing Filter\n",
    "kernel_one_channel = np.array([[0.1, 0.1, 0.1], [0.1, -0.8, 0.1], [0.1, 0.1, 0.1]])\n",
    "kernel = np.stack([kernel_one_channel] * 3, axis=2)\n",
    "stride = 1\n",
    "output = conv(inputs, kernel, stride)\n",
    "to_image(output, grey=True, save_path=\"/home/anaconda/桌面/自学OpenCV/src/lena-CNN-gray.jpg\")"
   ]
  },
  {
   "cell_type": "code",
   "execution_count": null,
   "metadata": {},
   "outputs": [],
   "source": []
  }
 ],
 "metadata": {
  "kernelspec": {
   "display_name": "py2.7",
   "language": "python",
   "name": "py2.7"
  },
  "language_info": {
   "codemirror_mode": {
    "name": "ipython",
    "version": 2
   },
   "file_extension": ".py",
   "mimetype": "text/x-python",
   "name": "python",
   "nbconvert_exporter": "python",
   "pygments_lexer": "ipython2",
   "version": "2.7.18"
  }
 },
 "nbformat": 4,
 "nbformat_minor": 4
}
