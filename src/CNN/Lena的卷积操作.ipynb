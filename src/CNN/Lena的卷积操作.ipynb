{
 "cells": [
  {
   "cell_type": "code",
   "execution_count": 3,
   "metadata": {},
   "outputs": [
    {
     "ename": "ImportError",
     "evalue": "No module named matplotlib.pyplot",
     "output_type": "error",
     "traceback": [
      "\u001b[0;31m---------------------------------------------------------------------------\u001b[0m",
      "\u001b[0;31mImportError\u001b[0m                               Traceback (most recent call last)",
      "\u001b[0;32m<ipython-input-3-341f7ed34b8f>\u001b[0m in \u001b[0;36m<module>\u001b[0;34m()\u001b[0m\n\u001b[1;32m      1\u001b[0m \u001b[0;32mimport\u001b[0m \u001b[0mnumpy\u001b[0m \u001b[0;32mas\u001b[0m \u001b[0mnp\u001b[0m\u001b[0;34m\u001b[0m\u001b[0m\n\u001b[0;32m----> 2\u001b[0;31m \u001b[0;32mimport\u001b[0m \u001b[0mmatplotlib\u001b[0m\u001b[0;34m.\u001b[0m\u001b[0mpyplot\u001b[0m \u001b[0;32mas\u001b[0m \u001b[0mplt\u001b[0m\u001b[0;34m\u001b[0m\u001b[0m\n\u001b[0m\u001b[1;32m      3\u001b[0m \u001b[0;32mfrom\u001b[0m \u001b[0mmpl_toolkits\u001b[0m\u001b[0;34m.\u001b[0m\u001b[0mmplot3d\u001b[0m \u001b[0;32mimport\u001b[0m \u001b[0mAxes3D\u001b[0m\u001b[0;34m\u001b[0m\u001b[0m\n\u001b[1;32m      4\u001b[0m \u001b[0;32mimport\u001b[0m \u001b[0mcopy\u001b[0m\u001b[0;34m\u001b[0m\u001b[0m\n\u001b[1;32m      5\u001b[0m \u001b[0;32mfrom\u001b[0m \u001b[0mPIL\u001b[0m \u001b[0;32mimport\u001b[0m \u001b[0mImage\u001b[0m\u001b[0;34m\u001b[0m\u001b[0m\n",
      "\u001b[0;31mImportError\u001b[0m: No module named matplotlib.pyplot"
     ]
    }
   ],
   "source": [
    "import numpy as np\n",
    "import matplotlib.pyplot as plt\n",
    "from mpl_toolkits.mplot3d import Axes3D\n",
    "import copy\n",
    "from PIL import Image\n",
    "import time\n",
    "import glob\n",
    "import pandas as pd\n",
    "from sklearn.model_selection import train_test_split"
   ]
  },
  {
   "cell_type": "code",
   "execution_count": 2,
   "metadata": {},
   "outputs": [],
   "source": [
    "np.random.seed(0)"
   ]
  },
  {
   "cell_type": "code",
   "execution_count": 1,
   "metadata": {},
   "outputs": [],
   "source": [
    "# 卷积实现\n",
    "def from_image(infilename):\n",
    "    img = Image.open(infilename)\n",
    "    img.load()\n",
    "    data = np.asarray(img, dtype=\"int32\")\n",
    "    return data\n",
    "\n",
    "def to_image(npdata, grey=False, save_path=None) :\n",
    "    mode = \"L\" if grey else \"RGB\"\n",
    "    outimg = Image.fromarray(np.asarray(npdata, dtype=\"uint8\"), mode)\n",
    "    if save_path:\n",
    "        outimg.save(save_path)\n",
    "    return outimg"
   ]
  },
  {
   "cell_type": "code",
   "execution_count": 2,
   "metadata": {},
   "outputs": [],
   "source": [
    "def get_padding(inputs, ks, mode=\"SAME\"):\n",
    "    \"\"\"\n",
    "    params: inputs (input array)\n",
    "    params: ks (kernel size) [p, q]\n",
    "    return: padding list [n,m,j,k] in different modes\n",
    "    \"\"\"\n",
    "    pad = None\n",
    "    if mode == \"FULL\":\n",
    "        pad = [ks[0] - 1, ks[1] - 1, ks[0] - 1, ks[1] - 1]\n",
    "    elif mode == \"VALID\":\n",
    "        pad = [0, 0, 0, 0]\n",
    "    elif mode == \"SAME\":\n",
    "        pad = [(ks[0] - 1) // 2, (ks[1] - 1) // 2, \n",
    "               (ks[0] - 1) // 2, (ks[1] - 1) // 2]\n",
    "        if ks[0] % 2 == 0:\n",
    "            pad[2] += 1\n",
    "        if ks[1] % 2 == 0:\n",
    "            pad[3] += 1\n",
    "    else: \n",
    "        print(\"Invalid mode\")\n",
    "    return pad"
   ]
  },
  {
   "cell_type": "code",
   "execution_count": 3,
   "metadata": {},
   "outputs": [],
   "source": [
    "def conv(inputs, kernel, stride, mode=\"SAME\"):\n",
    "    ks = kernel.shape[:2]\n",
    "    # get_padding\n",
    "    pad = get_padding(inputs, ks, mode=\"SAME\")\n",
    "    padded_inputs = np.pad(inputs, pad_width=((pad[0], pad[2]), (pad[1], pad[3]), (0, 0)), mode=\"constant\")\n",
    "\n",
    "    height, width, channels = inputs.shape\n",
    "    out_width = int((width + pad[0] + pad[2] - ks[0]) / stride + 1)\n",
    "    out_height = int((height + pad[1] + pad[3] - ks[1]) / stride + 1)\n",
    "    \n",
    "    outputs = np.empty(shape=(out_height, out_width))\n",
    "    for r, y in enumerate(range(0, padded_inputs.shape[0]-ks[1]+1, stride)):\n",
    "        for c, x in enumerate(range(0, padded_inputs.shape[1]-ks[0]+1, stride)):\n",
    "            outputs[r][c] = np.sum(padded_inputs[y:y+ks[1], x:x+ks[0], :] * kernel)\n",
    "    return outputs"
   ]
  },
  {
   "cell_type": "code",
   "execution_count": 4,
   "metadata": {},
   "outputs": [
    {
     "ename": "NameError",
     "evalue": "name 'np' is not defined",
     "output_type": "error",
     "traceback": [
      "\u001b[0;31m---------------------------------------------------------------------------\u001b[0m",
      "\u001b[0;31mNameError\u001b[0m                                 Traceback (most recent call last)",
      "\u001b[0;32m<ipython-input-4-46165296f309>\u001b[0m in \u001b[0;36m<module>\u001b[0;34m()\u001b[0m\n\u001b[1;32m     81\u001b[0m \u001b[0;34m\u001b[0m\u001b[0m\n\u001b[1;32m     82\u001b[0m \u001b[0;34m\u001b[0m\u001b[0m\n\u001b[0;32m---> 83\u001b[0;31m \u001b[0minputs\u001b[0m \u001b[0;34m=\u001b[0m \u001b[0mnp\u001b[0m\u001b[0;34m.\u001b[0m\u001b[0mrandom\u001b[0m\u001b[0;34m.\u001b[0m\u001b[0mrandint\u001b[0m\u001b[0;34m(\u001b[0m\u001b[0;36m0\u001b[0m\u001b[0;34m,\u001b[0m \u001b[0;36m20\u001b[0m\u001b[0;34m,\u001b[0m \u001b[0;34m(\u001b[0m\u001b[0;36m5\u001b[0m\u001b[0;34m,\u001b[0m \u001b[0;36m5\u001b[0m\u001b[0;34m,\u001b[0m \u001b[0;36m3\u001b[0m\u001b[0;34m)\u001b[0m\u001b[0;34m)\u001b[0m\u001b[0;34m\u001b[0m\u001b[0m\n\u001b[0m\u001b[1;32m     84\u001b[0m \u001b[0mstride\u001b[0m \u001b[0;34m=\u001b[0m \u001b[0;36m1\u001b[0m\u001b[0;34m\u001b[0m\u001b[0m\n\u001b[1;32m     85\u001b[0m \u001b[0mks\u001b[0m \u001b[0;34m=\u001b[0m \u001b[0;34m[\u001b[0m\u001b[0;36m3\u001b[0m\u001b[0;34m,\u001b[0m \u001b[0;36m3\u001b[0m\u001b[0;34m]\u001b[0m\u001b[0;34m\u001b[0m\u001b[0m\n",
      "\u001b[0;31mNameError\u001b[0m: name 'np' is not defined"
     ]
    }
   ],
   "source": [
    "# 卷积可视化以及三种不同的模式（FULL、VALID、SAME）\n",
    "\n",
    "def plot_conv(array, ks, stride=1, offset_x=0, offset_y=0, mode=\"SAME\", connect=False, name=\"conv\", gap=6):\n",
    "    height, width, channels = array.shape\n",
    "    pad = get_padding(array, ks, mode)\n",
    "    \n",
    "    fig = plt.figure(figsize=(7, 5))\n",
    "    ax = fig.gca(projection='3d')\n",
    "    ax._axis3don = False\n",
    "    ax.set_zlim3d(0, gap)\n",
    "    max_size = max(height + pad[1] + pad[3], width + pad[0] + pad[2])\n",
    "    ax.set_ylim(0, max_size + 1)\n",
    "    ax.set_xlim(0, max_size + 1)\n",
    "\n",
    "    # input surface\n",
    "    x = np.linspace(0, width, width + 1)\n",
    "    y = np.linspace(0, height, height + 1)\n",
    "    X,Y = np.meshgrid(x,y)\n",
    "    Z = np.zeros_like(X)\n",
    "    surf = ax.plot_surface(X, Y, Z, alpha=0.3)\n",
    "\n",
    "    # padding surface\n",
    "    x = np.linspace(-pad[0], width + pad[2], width + 1 + pad[0] + pad[2])\n",
    "    y = np.linspace(-pad[1], height + pad[3], height + 1 + pad[1] + pad[3])\n",
    "    X,Y = np.meshgrid(x,y)\n",
    "    Z = np.zeros_like(X)\n",
    "    surf = ax.plot_surface(X, Y, Z, alpha=0.3, color=\"white\", lw=0.5, edgecolors=\"white\")\n",
    "    \n",
    "    # lines\n",
    "    sx, sy, sz = -pad[0] + offset_x, -pad[1] + offset_y, 0\n",
    "    p1 = (sx, sy, sz)\n",
    "    p2 = (sx, sy + ks[1], sz)\n",
    "    p3 = (sx + ks[0], sy + ks[1], sz)\n",
    "    p4 = (sx + ks[0], sy, sz)\n",
    "    frame_line(ax, p1, p2)\n",
    "    frame_line(ax, p2, p3)\n",
    "    frame_line(ax, p3, p4)\n",
    "    frame_line(ax, p4, p1)\n",
    "    \n",
    "    x = np.linspace(sx, sx + ks[0], sx + ks[0] + 1)\n",
    "    y = np.linspace(sy, sy + ks[1], sy + ks[1] + 1)\n",
    "    X,Y = np.meshgrid(x,y)\n",
    "    Z = np.zeros_like(X) + sz\n",
    "    surf = ax.plot_surface(X, Y, Z, alpha=0.2, color=\"red\")\n",
    "    \n",
    "    # output surface\n",
    "    res_x_len = int((width + pad[0] + pad[2] - ks[0]) / stride + 1)\n",
    "    res_y_len = int((height + pad[1] + pad[3] - ks[1]) / stride + 1)\n",
    "    center_x = (width) / 2\n",
    "    center_y = (height) / 2\n",
    "    \n",
    "    x = np.linspace(center_x - res_x_len / 2, center_x + res_x_len / 2, res_x_len + 1)\n",
    "    y = np.linspace(center_y - res_y_len / 2, center_y + res_y_len / 2, res_y_len + 1)\n",
    "    X,Y = np.meshgrid(x,y)\n",
    "    Z = np.zeros_like(X) + gap\n",
    "    surf = ax.plot_surface(X, Y, Z, alpha=0.3, color=\"green\", lw=0.5, edgecolors=\"white\")\n",
    "\n",
    "    sx, sy, sz = center_x - res_x_len / 2 + offset_x, center_y - res_y_len / 2 + offset_y, gap\n",
    "    p1_ = (sx, sy, sz)\n",
    "    p2_ = (sx, sy + 1, sz)\n",
    "    p3_ = (sx + 1, sy + 1, sz)\n",
    "    p4_ = (sx + 1, sy, sz)\n",
    "    frame_line(ax, p1_, p2_)\n",
    "    frame_line(ax, p2_, p3_)\n",
    "    frame_line(ax, p3_, p4_)\n",
    "    frame_line(ax, p4_, p1_)\n",
    "\n",
    "    if connect:\n",
    "        frame_line(ax, p1, p1_)\n",
    "        frame_line(ax, p2, p2_)\n",
    "        frame_line(ax, p3, p3_)\n",
    "        frame_line(ax, p4, p4_)\n",
    "        \n",
    "#     plt.title(name + \" (%d, %d) -> (%d, %d)\" % (height, width, res_y_len, res_x_len))\n",
    "    plt.savefig(\"./plots/conv/%s.png\" % name)\n",
    "    \n",
    "def frame_line(ax, p1, p2, alpha=0.4):\n",
    "    line_color = \"blue\"\n",
    "    lw = 1.5\n",
    "    ax.plot([p1[0], p2[0]], [p1[1], p2[1]], zs=[p1[2], p2[2]], lw=lw, color=line_color, alpha=alpha, linestyle='--')\n",
    "    \n",
    "    \n",
    "inputs = np.random.randint(0, 20, (5, 5, 3))\n",
    "stride = 1\n",
    "ks = [3, 3]\n",
    "mode = \"VALID\"\n",
    "pad = get_padding(inputs, ks, mode=mode)\n",
    "height, width, channels = inputs.shape\n",
    "res_width = int((width + pad[0] + pad[2] - ks[0]) / stride + 1)\n",
    "res_height = int((height + pad[1] + pad[3] - ks[1]) / stride + 1)\n",
    "for y in range(res_height):\n",
    "    for x in range(res_width):\n",
    "        plot_conv(inputs, ks=ks, stride=stride, offset_x=x, offset_y=y, mode=mode, connect=True, name=\"%s%s\" % (x, y))"
   ]
  },
  {
   "cell_type": "code",
   "execution_count": null,
   "metadata": {},
   "outputs": [],
   "source": []
  }
 ],
 "metadata": {
  "kernelspec": {
   "display_name": "py2.7",
   "language": "python",
   "name": "py2.7"
  },
  "language_info": {
   "codemirror_mode": {
    "name": "ipython",
    "version": 2
   },
   "file_extension": ".py",
   "mimetype": "text/x-python",
   "name": "python",
   "nbconvert_exporter": "python",
   "pygments_lexer": "ipython2",
   "version": "2.7.18"
  }
 },
 "nbformat": 4,
 "nbformat_minor": 4
}
