{
 "cells": [
  {
   "cell_type": "code",
   "execution_count": null,
   "metadata": {},
   "outputs": [
    {
     "name": "stdout",
     "output_type": "stream",
     "text": [
      "---------------hello cv.python---------------\n"
     ]
    }
   ],
   "source": [
    "import cv2 as cv\n",
    "import numpy as np\n",
    "\n",
    "def median_blur_demo(image): \n",
    "    dst = cv.medianBlur(image,5) \n",
    "    cv.imshow(\"blur iamage\",dst)\n",
    "\n",
    "\n",
    "print(\"---------------hello cv.python---------------\")\n",
    "src = cv.imread(\"/home/anaconda/桌面/自学OpenCV/src/lena.jpg\")\n",
    "cv.namedWindow(\"input image\", cv.WINDOW_AUTOSIZE)\n",
    "cv.imshow(\"input image\", src)\n",
    "median_blur_demo(src)\n",
    "\n",
    "cv.waitKey(0)\n",
    "cv.destroyAllWindows()"
   ]
  },
  {
   "cell_type": "code",
   "execution_count": null,
   "metadata": {},
   "outputs": [],
   "source": []
  }
 ],
 "metadata": {
  "kernelspec": {
   "display_name": "py2.7",
   "language": "python",
   "name": "py2.7"
  },
  "language_info": {
   "codemirror_mode": {
    "name": "ipython",
    "version": 2
   },
   "file_extension": ".py",
   "mimetype": "text/x-python",
   "name": "python",
   "nbconvert_exporter": "python",
   "pygments_lexer": "ipython2",
   "version": "2.7.18"
  }
 },
 "nbformat": 4,
 "nbformat_minor": 4
}
