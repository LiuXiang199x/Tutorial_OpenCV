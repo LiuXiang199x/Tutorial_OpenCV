{
 "cells": [
  {
   "cell_type": "code",
   "execution_count": 1,
   "metadata": {},
   "outputs": [],
   "source": [
    "import cv2 as cv\n",
    "import numpy as np"
   ]
  },
  {
   "cell_type": "code",
   "execution_count": 12,
   "metadata": {},
   "outputs": [
    {
     "name": "stdout",
     "output_type": "stream",
     "text": [
      "-------------hello cv.python--------------\n"
     ]
    },
    {
     "ename": "error",
     "evalue": "OpenCV(4.2.0) /io/opencv/modules/imgproc/src/smooth.dispatch.cpp:296: error: (-215:Assertion failed) ksize.width > 0 && ksize.width % 2 == 1 && ksize.height > 0 && ksize.height % 2 == 1 in function 'createGaussianKernels'\n",
     "output_type": "error",
     "traceback": [
      "\u001b[0;31m---------------------------------------------------------------------------\u001b[0m",
      "\u001b[0;31merror\u001b[0m                                     Traceback (most recent call last)",
      "\u001b[0;32m<ipython-input-12-e235819f03f8>\u001b[0m in \u001b[0;36m<module>\u001b[0;34m()\u001b[0m\n\u001b[1;32m      4\u001b[0m \u001b[0mcv\u001b[0m\u001b[0;34m.\u001b[0m\u001b[0mimshow\u001b[0m\u001b[0;34m(\u001b[0m\u001b[0;34m\"input image\"\u001b[0m\u001b[0;34m,\u001b[0m\u001b[0msrc\u001b[0m\u001b[0;34m)\u001b[0m\u001b[0;34m\u001b[0m\u001b[0m\n\u001b[1;32m      5\u001b[0m \u001b[0;34m\u001b[0m\u001b[0m\n\u001b[0;32m----> 6\u001b[0;31m \u001b[0mdst\u001b[0m \u001b[0;34m=\u001b[0m \u001b[0mcv\u001b[0m\u001b[0;34m.\u001b[0m\u001b[0mGaussianBlur\u001b[0m\u001b[0;34m(\u001b[0m\u001b[0msrc\u001b[0m\u001b[0;34m,\u001b[0m\u001b[0;34m(\u001b[0m\u001b[0;36m0\u001b[0m\u001b[0;34m,\u001b[0m\u001b[0;36m0\u001b[0m\u001b[0;34m)\u001b[0m\u001b[0;34m,\u001b[0m\u001b[0;36m0\u001b[0m\u001b[0;34m)\u001b[0m\u001b[0;34m\u001b[0m\u001b[0m\n\u001b[0m\u001b[1;32m      7\u001b[0m \u001b[0mcv\u001b[0m\u001b[0;34m.\u001b[0m\u001b[0mimshow\u001b[0m\u001b[0;34m(\u001b[0m\u001b[0;34m\"Gaussian Blur\"\u001b[0m\u001b[0;34m,\u001b[0m\u001b[0mdst\u001b[0m\u001b[0;34m)\u001b[0m\u001b[0;34m\u001b[0m\u001b[0m\n\u001b[1;32m      8\u001b[0m \u001b[0;34m\u001b[0m\u001b[0m\n",
      "\u001b[0;31merror\u001b[0m: OpenCV(4.2.0) /io/opencv/modules/imgproc/src/smooth.dispatch.cpp:296: error: (-215:Assertion failed) ksize.width > 0 && ksize.width % 2 == 1 && ksize.height > 0 && ksize.height % 2 == 1 in function 'createGaussianKernels'\n"
     ]
    }
   ],
   "source": [
    "print(\"-------------hello cv.python--------------\")\n",
    "src = cv.imread(\"/home/anaconda/桌面/自学OpenCV/src/image/lena.jpg\")\n",
    "cv.namedWindow(\"input image\",cv.WINDOW_AUTOSIZE)\n",
    "cv.imshow(\"input image\",src)\n",
    "\n",
    "# 仔细研究ksize 和 sigma 对图像影响\n",
    "# sigma不变，size越大越模糊; size不变，sigma越大越模糊\n",
    "dst = cv.GaussianBlur(src,(0,0),0)\n",
    "cv.imshow(\"Gaussian Blur\",dst)\n",
    "\n",
    "cv.waitKey(0)\n",
    "cv.destroyAllWindows()"
   ]
  },
  {
   "cell_type": "code",
   "execution_count": 5,
   "metadata": {},
   "outputs": [
    {
     "name": "stdout",
     "output_type": "stream",
     "text": [
      "-------------hello cv.python--------------\n",
      "time consume:1014.25269509\n"
     ]
    }
   ],
   "source": [
    "# 我们定义clamp来确保在0-255之间\n",
    "def clamp(pv):\n",
    "    if pv > 255:\n",
    "        return 255\n",
    "    if pv < 0:\n",
    "        return 0\n",
    "    else:\n",
    "        return pv\n",
    "\n",
    "def gaussian_noise(image):\n",
    "    h, w, c = image.shape\n",
    "    # 我们得到了hwc这三个值，现在我们要来获取高斯随机数，我们np.randn可以获得\n",
    "    # 先对每一行每一列每一个channel里面赋值\n",
    "    for row in range(h):\n",
    "        for col in range(w):\n",
    "            s = np.random.normal(0,20,3)\n",
    "            b = image[row, col, 0] # blue\n",
    "            g = image[row, col, 1] # green\n",
    "            r = image[row, col, 2] # red\n",
    "            \n",
    "            # 加上噪声\n",
    "            image[row, col, 0] = clamp(b + s[0])  # 这里可能超出0-255之外\n",
    "            image[row, col, 1] = clamp(b + s[1])\n",
    "            image[row, col, 2] = clamp(b + s[2])\n",
    "            \n",
    "    cv.imshow(\"noise image\", image)\n",
    "            \n",
    "print(\"-------------hello cv.python--------------\")\n",
    "src = cv.imread(\"/home/anaconda/桌面/自学OpenCV/src/lena.jpg\")\n",
    "cv.namedWindow(\"input image\",cv.WINDOW_AUTOSIZE)\n",
    "cv.imshow(\"input image\",src)\n",
    "\n",
    "t1 = cv.getTickCount()\n",
    "gaussian_noise(src)\n",
    "# 对原图高斯模糊,高斯模糊有一个专门的API，()这个括号里面可以什么都不输入也可以输入00\n",
    "# 0,0的话我们就会对sigma x开始对他进行计算，sigma x = 15\n",
    "dst = cv.GaussianBlur(src,(5,5),15)\n",
    "t2 = cv.getTickCount()\n",
    "time =  (t2 - t1)/cv.getTickFrequency()\n",
    "print(\"time consume:%s\"%(time + 1000))\n",
    "cv.imshow(\"Gaussian Blur\",dst)\n",
    "\n",
    "cv.waitKey(0)\n",
    "cv.destroyAllWindows()"
   ]
  },
  {
   "cell_type": "code",
   "execution_count": null,
   "metadata": {},
   "outputs": [],
   "source": []
  }
 ],
 "metadata": {
  "kernelspec": {
   "display_name": "py2.7",
   "language": "python",
   "name": "py2.7"
  },
  "language_info": {
   "codemirror_mode": {
    "name": "ipython",
    "version": 2
   },
   "file_extension": ".py",
   "mimetype": "text/x-python",
   "name": "python",
   "nbconvert_exporter": "python",
   "pygments_lexer": "ipython2",
   "version": "2.7.18"
  }
 },
 "nbformat": 4,
 "nbformat_minor": 4
}
