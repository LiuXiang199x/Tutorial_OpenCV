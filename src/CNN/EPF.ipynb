{
 "cells": [
  {
   "cell_type": "code",
   "execution_count": 1,
   "metadata": {},
   "outputs": [],
   "source": [
    "import cv2 as cv\n",
    "import numpy as np"
   ]
  },
  {
   "cell_type": "code",
   "execution_count": 2,
   "metadata": {},
   "outputs": [
    {
     "name": "stdout",
     "output_type": "stream",
     "text": [
      "----------------cv.python--------------\n"
     ]
    }
   ],
   "source": [
    "# Bilateral Filter\n",
    "def bi_demo(image): \n",
    "    # 一般colorsigma取大一点，为了让小的差异也给模糊掉，去噪。\n",
    "    # sigmaspace取小一点，这样它整个核就会小一点。\n",
    "    # d 是distance,输入d的话，sigmaspace他就会从d计算到sigmaspace\n",
    "    # 如果是sigmacolor他就会从sigamspace计算到sigmacolor\n",
    "    # 所以我们一般不指定d，直接用sigmacolor和sigmaspace\n",
    "    dst = cv.bilateralFilter(image, 0, 100, 15)\n",
    "    cv.imshow(\"bilateral_filter show\", dst)\n",
    "    \n",
    "def shift_demo(image):\n",
    "    # 这里有一个sp参数，sp就是我们的空间space\n",
    "    dst = cv.pyrMeanShiftFiltering(image, 10, 50)\n",
    "    cv.imshow(\"shift_demo\", dst)        \n",
    "    \n",
    "print(\"----------------cv.python--------------\")\n",
    "src = cv.imread(\"/home/anaconda/桌面/自学OpenCV/src/image/bilateral_filter.png\")\n",
    "cv.namedWindow(\"input image\",cv.WINDOW_AUTOSIZE)\n",
    "cv.imshow(\"original image\", src)\n",
    "\n",
    "shift_demo(src)\n",
    "\n",
    "cv.waitKey(0)\n",
    "cv.destroyAllWindows()"
   ]
  },
  {
   "cell_type": "code",
   "execution_count": null,
   "metadata": {},
   "outputs": [],
   "source": []
  }
 ],
 "metadata": {
  "kernelspec": {
   "display_name": "py2.7",
   "language": "python",
   "name": "py2.7"
  },
  "language_info": {
   "codemirror_mode": {
    "name": "ipython",
    "version": 2
   },
   "file_extension": ".py",
   "mimetype": "text/x-python",
   "name": "python",
   "nbconvert_exporter": "python",
   "pygments_lexer": "ipython2",
   "version": "2.7.18"
  }
 },
 "nbformat": 4,
 "nbformat_minor": 4
}
