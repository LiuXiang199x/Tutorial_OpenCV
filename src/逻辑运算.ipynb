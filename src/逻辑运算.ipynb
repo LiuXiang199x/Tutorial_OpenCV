{
 "cells": [
  {
   "cell_type": "code",
   "execution_count": 2,
   "metadata": {},
   "outputs": [],
   "source": [
    "import numpy as np\n",
    "import cv2 as cv"
   ]
  },
  {
   "cell_type": "code",
   "execution_count": 14,
   "metadata": {},
   "outputs": [
    {
     "name": "stdout",
     "output_type": "stream",
     "text": [
      "------------Hello Python----------\n",
      "(240, 320, 3)\n",
      "(240, 320, 3)\n"
     ]
    }
   ],
   "source": [
    "def logic_demo(m1, m2):\n",
    "    #dat = cv.bitwise_and(m1, m2)\n",
    "    #dat = cv.bitwise_or(m1, m2)\n",
    "    image = cv.imread(\"/home/anaconda/桌面/自学OpenCV/src/lena.jpg\")\n",
    "    \n",
    "    cv.imshow(\"oriinal\", image)\n",
    "    image_not = cv.bitwise_not(image)\n",
    "    cv.imshow(\"image_not\", image_not)\n",
    "\n",
    "def contrast_brightness_demo(image, c, b):\n",
    "    h, w, ch = image.shape\n",
    "    blank = np.zeros([h,w,ch], image.dtype)\n",
    "    # addWeighted(第一张图，其权重，第二张图，其权重，亮度)\n",
    "    dst = cv.addWeighted(image, c, blank, 1-c, b)\n",
    "    cv.imshow(\"con-bri-demo\",dst)\n",
    "    \n",
    "print(\"------------Hello Python----------\")\n",
    "\n",
    "src1 = cv.imread(\"/home/anaconda/桌面/自学OpenCV/src/01.jpg\")\n",
    "src2 = cv.imread(\"/home/anaconda/桌面/自学OpenCV/src/02.jpg\")\n",
    "src = cv.imread(\"/home/anaconda/桌面/自学OpenCV/src/lena.jpg\")\n",
    "print(src1.shape)\n",
    "print(src2.shape)\n",
    "\n",
    "cv.namedWindow(\"input image\", cv.WINDOW_AUTOSIZE)\n",
    "#cv.imshow(\"image1\",src1)\n",
    "#cv.imshow(\"image2\",src2)\n",
    "cv.imshow(\"original\",src)\n",
    "contrast_brightness_demo(src,5,1)\n",
    "#logic_demo(src1, src2)\n",
    "\n",
    "cv.waitKey(0)\n",
    "cv.destroyAllWindows()"
   ]
  },
  {
   "cell_type": "code",
   "execution_count": null,
   "metadata": {},
   "outputs": [],
   "source": []
  }
 ],
 "metadata": {
  "kernelspec": {
   "display_name": "py2.7",
   "language": "python",
   "name": "py2.7"
  },
  "language_info": {
   "codemirror_mode": {
    "name": "ipython",
    "version": 2
   },
   "file_extension": ".py",
   "mimetype": "text/x-python",
   "name": "python",
   "nbconvert_exporter": "python",
   "pygments_lexer": "ipython2",
   "version": "2.7.18"
  }
 },
 "nbformat": 4,
 "nbformat_minor": 4
}
